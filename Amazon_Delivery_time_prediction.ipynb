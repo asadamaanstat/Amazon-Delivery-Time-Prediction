{
  "nbformat": 4,
  "nbformat_minor": 0,
  "metadata": {
    "colab": {
      "provenance": [],
      "collapsed_sections": [
        "vncDsAP0Gaoa",
        "FJNUwmbgGyua",
        "w6K7xa23Elo4",
        "yQaldy8SH6Dl",
        "mDgbUHAGgjLW",
        "x71ZqKXriCWQ",
        "7hBIi_osiCS2",
        "JlHwYmJAmNHm",
        "35m5QtbWiB9F",
        "PoPl-ycgm1ru",
        "H0kj-8xxnORC",
        "nA9Y7ga8ng1Z",
        "PBTbrJXOngz2",
        "u3PMJOP6ngxN",
        "dauF4eBmngu3",
        "bKJF3rekwFvQ",
        "MSa1f5Uengrz",
        "K5QZ13OEpz2H",
        "lQ7QKXXCp7Bj",
        "4Of9eVA-YrdM",
        "iky9q4vBYrdO",
        "F6T5p64dYrdO",
        "y-Ehk30pYrdP",
        "OH-pJp9IphqM",
        "bbFf2-_FphqN",
        "_ouA3fa0phqN",
        "Seke61FWphqN",
        "PIIx-8_IphqN",
        "t27r6nlMphqO",
        "r2jJGEOYphqO",
        "b0JNsNcRphqO",
        "jj7wYXLtphqO",
        "eZrbJ2SmphqO",
        "rFu4xreNphqO",
        "YJ55k-q6phqO",
        "gCFgpxoyphqP",
        "OVtJsKN_phqQ",
        "lssrdh5qphqQ",
        "g-ATYxFrGrvw",
        "Yfr_Vlr8HBkt",
        "8yEUt7NnHlrM",
        "tEA2Xm5dHt1r",
        "I79__PHVH19G",
        "Ou-I18pAyIpj",
        "fF3858GYyt-u",
        "4_0_7-oCpUZd",
        "hwyV_J3ipUZe",
        "3yB-zSqbpUZe",
        "dEUvejAfpUZe",
        "Fd15vwWVpUZf",
        "bn_IUdTipZyH",
        "49K5P_iCpZyH",
        "Nff-vKELpZyI",
        "kLW572S8pZyI",
        "dWbDXHzopZyI",
        "yLjJCtPM0KBk",
        "xiyOF9F70UgQ",
        "7wuGOrhz0itI",
        "id1riN9m0vUs",
        "578E2V7j08f6",
        "89xtkJwZ18nB",
        "67NQN5KX2AMe",
        "pEMng2IbBLp7",
        "rAdphbQ9Bhjc",
        "TNVZ9zx19K6k",
        "nqoHp30x9hH9",
        "rMDnDkt2B6du",
        "yiiVWRdJDDil",
        "1UUpS68QDMuG",
        "kexQrXU-DjzY",
        "T5CmagL3EC8N",
        "qjKvONjwE8ra",
        "P1XJ9OREExlT",
        "VFOzZv6IFROw",
        "TIqpNgepFxVj",
        "OB4l2ZhMeS1U",
        "4qY1EAkEfxKe",
        "PiV4Ypx8fxKe",
        "TfvqoZmBfxKf",
        "dJ2tPlVmpsJ0",
        "JWYfwnehpsJ1",
        "-jK_YjpMpsJ2",
        "HAih1iBOpsJ2",
        "zVGeBEFhpsJ2",
        "bmKjuQ-FpsJ3",
        "Fze-IPXLpx6K",
        "7AN1z2sKpx6M",
        "9PIHJqyupx6M",
        "_-qAgymDpx6N",
        "Z-hykwinpx6N",
        "h_CCil-SKHpo",
        "cBFFvTBNJzUa",
        "gCX9965dhzqZ",
        "gIfDvo9L0UH2"
      ]
    },
    "kernelspec": {
      "name": "python3",
      "display_name": "Python 3"
    },
    "language_info": {
      "name": "python"
    }
  },
  "cells": [
    {
      "cell_type": "markdown",
      "source": [
        "# ***Amazon Delivery Time Prediction***\n",
        "\n"
      ],
      "metadata": {
        "id": "vncDsAP0Gaoa"
      }
    },
    {
      "cell_type": "markdown",
      "source": [
        "##### **Project Type**    - Supervised Machine Learning Regression Project.\n",
        "##### **Contribution**    - Individual"
      ],
      "metadata": {
        "id": "beRrZCGUAJYm"
      }
    },
    {
      "cell_type": "markdown",
      "source": [
        "# **Project Summary**"
      ],
      "metadata": {
        "id": "FJNUwmbgGyua"
      }
    },
    {
      "cell_type": "markdown",
      "source": [
        "This project leverages machine learning to predict Amazon delivery times using detailed e-commerce, agent, product, environmental, and route data. Through systematic steps—data preparation, cleaning, feature engineering, exploratory data analysis, multiple regression model training, and experiment tracking—the solution can forecast delivery completion times based on order parameters and real-time conditions.\n",
        "\n",
        "With the ability to ingest new order details and generate accurate predictions, the model will support logistics teams by enabling smarter scheduling, reducing operational costs, and improving customer satisfaction. The included Streamlit front-end enables users to input variables and instantly receive estimated delivery times. Ultimately, the project’s outcome helps Amazon optimize delivery performance, streamline supply chain operations, and deliver a superior customer experience.\n",
        "\n",
        "\n"
      ],
      "metadata": {
        "id": "F6v_1wHtG2nS"
      }
    },
    {
      "cell_type": "markdown",
      "source": [
        "# **GitHub Link -**"
      ],
      "metadata": {
        "id": "w6K7xa23Elo4"
      }
    },
    {
      "cell_type": "markdown",
      "source": [
        "https://github.com/asadamaanstat/Amazon-Delivery-Time-Prediction"
      ],
      "metadata": {
        "id": "h1o69JH3Eqqn"
      }
    },
    {
      "cell_type": "markdown",
      "source": [
        "# **Problem Statement**\n"
      ],
      "metadata": {
        "id": "yQaldy8SH6Dl"
      }
    },
    {
      "cell_type": "markdown",
      "source": [
        "This project leverages machine learning to predict Amazon delivery times using detailed e-commerce, agent, product, environmental, and route data. Through systematic steps—data preparation, cleaning, feature engineering, exploratory data analysis, multiple regression model training, and experiment tracking—the solution can forecast delivery completion times based on order parameters and real-time conditions.\n",
        "\n",
        "With the ability to ingest new order details and generate accurate predictions, the model will support logistics teams by enabling smarter scheduling, reducing operational costs, and improving customer satisfaction. The included Streamlit front-end enables users to input variables and instantly receive estimated delivery times. Ultimately, the project’s outcome helps Amazon optimize delivery performance, streamline supply chain operations, and deliver a superior customer experience."
      ],
      "metadata": {
        "id": "DpeJGUA3kjGy"
      }
    },
    {
      "cell_type": "markdown",
      "source": [
        "# ***Let's Begin !***"
      ],
      "metadata": {
        "id": "O_i_v8NEhb9l"
      }
    },
    {
      "cell_type": "markdown",
      "source": [
        "## ***1. Know Your Data***"
      ],
      "metadata": {
        "id": "HhfV-JJviCcP"
      }
    },
    {
      "cell_type": "markdown",
      "source": [
        "### Import Libraries"
      ],
      "metadata": {
        "id": "Y3lxredqlCYt"
      }
    },
    {
      "cell_type": "code",
      "source": [
        "import pandas as pd\n",
        "import numpy as np\n",
        "import matplotlib.pyplot as plt\n",
        "import seaborn as sns\n",
        "import joblib\n",
        "import warnings\n",
        "warnings.filterwarnings(\"ignore\")\n",
        "\n",
        "from sklearn.model_selection import train_test_split\n",
        "from sklearn.linear_model import LinearRegression\n",
        "from sklearn.ensemble import RandomForestRegressor, GradientBoostingRegressor\n",
        "from sklearn.metrics import mean_squared_error, mean_absolute_error, r2_score\n",
        "from geopy.distance import geodesic\n",
        "from sklearn.model_selection import GridSearchCV\n",
        "\n",
        "#!pip install mlflow\n",
        "\n",
        "import mlflow\n",
        "import mlflow.sklearn"
      ],
      "metadata": {
        "id": "M8Vqi-pPk-HR"
      },
      "execution_count": 34,
      "outputs": []
    },
    {
      "cell_type": "markdown",
      "source": [
        "### Dataset Loading"
      ],
      "metadata": {
        "id": "3RnN4peoiCZX"
      }
    },
    {
      "cell_type": "code",
      "source": [
        "df = pd.read_csv('amazon_delivery.csv')"
      ],
      "metadata": {
        "id": "4CkvbW_SlZ_R"
      },
      "execution_count": 35,
      "outputs": []
    },
    {
      "cell_type": "markdown",
      "source": [
        "### Dataset First View"
      ],
      "metadata": {
        "id": "x71ZqKXriCWQ"
      }
    },
    {
      "cell_type": "code",
      "source": [
        "df.head()"
      ],
      "metadata": {
        "id": "LWNFOSvLl09H",
        "colab": {
          "base_uri": "https://localhost:8080/",
          "height": 226
        },
        "outputId": "888f5ff2-21bb-498b-81dc-3526cd38331f"
      },
      "execution_count": 5,
      "outputs": [
        {
          "output_type": "execute_result",
          "data": {
            "text/plain": [
              "        Order_ID  Agent_Age  Agent_Rating  Store_Latitude  Store_Longitude  \\\n",
              "0  ialx566343618         37           4.9       22.745049        75.892471   \n",
              "1  akqg208421122         34           4.5       12.913041        77.683237   \n",
              "2  njpu434582536         23           4.4       12.914264        77.678400   \n",
              "3  rjto796129700         38           4.7       11.003669        76.976494   \n",
              "4  zguw716275638         32           4.6       12.972793        80.249982   \n",
              "\n",
              "   Drop_Latitude  Drop_Longitude  Order_Date Order_Time Pickup_Time  \\\n",
              "0      22.765049       75.912471  2022-03-19   11:30:00    11:45:00   \n",
              "1      13.043041       77.813237  2022-03-25   19:45:00    19:50:00   \n",
              "2      12.924264       77.688400  2022-03-19   08:30:00    08:45:00   \n",
              "3      11.053669       77.026494  2022-04-05   18:00:00    18:10:00   \n",
              "4      13.012793       80.289982  2022-03-26   13:30:00    13:45:00   \n",
              "\n",
              "      Weather  Traffic      Vehicle            Area  Delivery_Time  \\\n",
              "0       Sunny    High   motorcycle           Urban             120   \n",
              "1      Stormy     Jam      scooter   Metropolitian             165   \n",
              "2  Sandstorms     Low   motorcycle           Urban             130   \n",
              "3       Sunny  Medium   motorcycle   Metropolitian             105   \n",
              "4      Cloudy    High      scooter   Metropolitian             150   \n",
              "\n",
              "      Category  \n",
              "0     Clothing  \n",
              "1  Electronics  \n",
              "2       Sports  \n",
              "3    Cosmetics  \n",
              "4         Toys  "
            ],
            "text/html": [
              "\n",
              "  <div id=\"df-461c614e-deb8-415a-af60-69036d629858\" class=\"colab-df-container\">\n",
              "    <div>\n",
              "<style scoped>\n",
              "    .dataframe tbody tr th:only-of-type {\n",
              "        vertical-align: middle;\n",
              "    }\n",
              "\n",
              "    .dataframe tbody tr th {\n",
              "        vertical-align: top;\n",
              "    }\n",
              "\n",
              "    .dataframe thead th {\n",
              "        text-align: right;\n",
              "    }\n",
              "</style>\n",
              "<table border=\"1\" class=\"dataframe\">\n",
              "  <thead>\n",
              "    <tr style=\"text-align: right;\">\n",
              "      <th></th>\n",
              "      <th>Order_ID</th>\n",
              "      <th>Agent_Age</th>\n",
              "      <th>Agent_Rating</th>\n",
              "      <th>Store_Latitude</th>\n",
              "      <th>Store_Longitude</th>\n",
              "      <th>Drop_Latitude</th>\n",
              "      <th>Drop_Longitude</th>\n",
              "      <th>Order_Date</th>\n",
              "      <th>Order_Time</th>\n",
              "      <th>Pickup_Time</th>\n",
              "      <th>Weather</th>\n",
              "      <th>Traffic</th>\n",
              "      <th>Vehicle</th>\n",
              "      <th>Area</th>\n",
              "      <th>Delivery_Time</th>\n",
              "      <th>Category</th>\n",
              "    </tr>\n",
              "  </thead>\n",
              "  <tbody>\n",
              "    <tr>\n",
              "      <th>0</th>\n",
              "      <td>ialx566343618</td>\n",
              "      <td>37</td>\n",
              "      <td>4.9</td>\n",
              "      <td>22.745049</td>\n",
              "      <td>75.892471</td>\n",
              "      <td>22.765049</td>\n",
              "      <td>75.912471</td>\n",
              "      <td>2022-03-19</td>\n",
              "      <td>11:30:00</td>\n",
              "      <td>11:45:00</td>\n",
              "      <td>Sunny</td>\n",
              "      <td>High</td>\n",
              "      <td>motorcycle</td>\n",
              "      <td>Urban</td>\n",
              "      <td>120</td>\n",
              "      <td>Clothing</td>\n",
              "    </tr>\n",
              "    <tr>\n",
              "      <th>1</th>\n",
              "      <td>akqg208421122</td>\n",
              "      <td>34</td>\n",
              "      <td>4.5</td>\n",
              "      <td>12.913041</td>\n",
              "      <td>77.683237</td>\n",
              "      <td>13.043041</td>\n",
              "      <td>77.813237</td>\n",
              "      <td>2022-03-25</td>\n",
              "      <td>19:45:00</td>\n",
              "      <td>19:50:00</td>\n",
              "      <td>Stormy</td>\n",
              "      <td>Jam</td>\n",
              "      <td>scooter</td>\n",
              "      <td>Metropolitian</td>\n",
              "      <td>165</td>\n",
              "      <td>Electronics</td>\n",
              "    </tr>\n",
              "    <tr>\n",
              "      <th>2</th>\n",
              "      <td>njpu434582536</td>\n",
              "      <td>23</td>\n",
              "      <td>4.4</td>\n",
              "      <td>12.914264</td>\n",
              "      <td>77.678400</td>\n",
              "      <td>12.924264</td>\n",
              "      <td>77.688400</td>\n",
              "      <td>2022-03-19</td>\n",
              "      <td>08:30:00</td>\n",
              "      <td>08:45:00</td>\n",
              "      <td>Sandstorms</td>\n",
              "      <td>Low</td>\n",
              "      <td>motorcycle</td>\n",
              "      <td>Urban</td>\n",
              "      <td>130</td>\n",
              "      <td>Sports</td>\n",
              "    </tr>\n",
              "    <tr>\n",
              "      <th>3</th>\n",
              "      <td>rjto796129700</td>\n",
              "      <td>38</td>\n",
              "      <td>4.7</td>\n",
              "      <td>11.003669</td>\n",
              "      <td>76.976494</td>\n",
              "      <td>11.053669</td>\n",
              "      <td>77.026494</td>\n",
              "      <td>2022-04-05</td>\n",
              "      <td>18:00:00</td>\n",
              "      <td>18:10:00</td>\n",
              "      <td>Sunny</td>\n",
              "      <td>Medium</td>\n",
              "      <td>motorcycle</td>\n",
              "      <td>Metropolitian</td>\n",
              "      <td>105</td>\n",
              "      <td>Cosmetics</td>\n",
              "    </tr>\n",
              "    <tr>\n",
              "      <th>4</th>\n",
              "      <td>zguw716275638</td>\n",
              "      <td>32</td>\n",
              "      <td>4.6</td>\n",
              "      <td>12.972793</td>\n",
              "      <td>80.249982</td>\n",
              "      <td>13.012793</td>\n",
              "      <td>80.289982</td>\n",
              "      <td>2022-03-26</td>\n",
              "      <td>13:30:00</td>\n",
              "      <td>13:45:00</td>\n",
              "      <td>Cloudy</td>\n",
              "      <td>High</td>\n",
              "      <td>scooter</td>\n",
              "      <td>Metropolitian</td>\n",
              "      <td>150</td>\n",
              "      <td>Toys</td>\n",
              "    </tr>\n",
              "  </tbody>\n",
              "</table>\n",
              "</div>\n",
              "    <div class=\"colab-df-buttons\">\n",
              "\n",
              "  <div class=\"colab-df-container\">\n",
              "    <button class=\"colab-df-convert\" onclick=\"convertToInteractive('df-461c614e-deb8-415a-af60-69036d629858')\"\n",
              "            title=\"Convert this dataframe to an interactive table.\"\n",
              "            style=\"display:none;\">\n",
              "\n",
              "  <svg xmlns=\"http://www.w3.org/2000/svg\" height=\"24px\" viewBox=\"0 -960 960 960\">\n",
              "    <path d=\"M120-120v-720h720v720H120Zm60-500h600v-160H180v160Zm220 220h160v-160H400v160Zm0 220h160v-160H400v160ZM180-400h160v-160H180v160Zm440 0h160v-160H620v160ZM180-180h160v-160H180v160Zm440 0h160v-160H620v160Z\"/>\n",
              "  </svg>\n",
              "    </button>\n",
              "\n",
              "  <style>\n",
              "    .colab-df-container {\n",
              "      display:flex;\n",
              "      gap: 12px;\n",
              "    }\n",
              "\n",
              "    .colab-df-convert {\n",
              "      background-color: #E8F0FE;\n",
              "      border: none;\n",
              "      border-radius: 50%;\n",
              "      cursor: pointer;\n",
              "      display: none;\n",
              "      fill: #1967D2;\n",
              "      height: 32px;\n",
              "      padding: 0 0 0 0;\n",
              "      width: 32px;\n",
              "    }\n",
              "\n",
              "    .colab-df-convert:hover {\n",
              "      background-color: #E2EBFA;\n",
              "      box-shadow: 0px 1px 2px rgba(60, 64, 67, 0.3), 0px 1px 3px 1px rgba(60, 64, 67, 0.15);\n",
              "      fill: #174EA6;\n",
              "    }\n",
              "\n",
              "    .colab-df-buttons div {\n",
              "      margin-bottom: 4px;\n",
              "    }\n",
              "\n",
              "    [theme=dark] .colab-df-convert {\n",
              "      background-color: #3B4455;\n",
              "      fill: #D2E3FC;\n",
              "    }\n",
              "\n",
              "    [theme=dark] .colab-df-convert:hover {\n",
              "      background-color: #434B5C;\n",
              "      box-shadow: 0px 1px 3px 1px rgba(0, 0, 0, 0.15);\n",
              "      filter: drop-shadow(0px 1px 2px rgba(0, 0, 0, 0.3));\n",
              "      fill: #FFFFFF;\n",
              "    }\n",
              "  </style>\n",
              "\n",
              "    <script>\n",
              "      const buttonEl =\n",
              "        document.querySelector('#df-461c614e-deb8-415a-af60-69036d629858 button.colab-df-convert');\n",
              "      buttonEl.style.display =\n",
              "        google.colab.kernel.accessAllowed ? 'block' : 'none';\n",
              "\n",
              "      async function convertToInteractive(key) {\n",
              "        const element = document.querySelector('#df-461c614e-deb8-415a-af60-69036d629858');\n",
              "        const dataTable =\n",
              "          await google.colab.kernel.invokeFunction('convertToInteractive',\n",
              "                                                    [key], {});\n",
              "        if (!dataTable) return;\n",
              "\n",
              "        const docLinkHtml = 'Like what you see? Visit the ' +\n",
              "          '<a target=\"_blank\" href=https://colab.research.google.com/notebooks/data_table.ipynb>data table notebook</a>'\n",
              "          + ' to learn more about interactive tables.';\n",
              "        element.innerHTML = '';\n",
              "        dataTable['output_type'] = 'display_data';\n",
              "        await google.colab.output.renderOutput(dataTable, element);\n",
              "        const docLink = document.createElement('div');\n",
              "        docLink.innerHTML = docLinkHtml;\n",
              "        element.appendChild(docLink);\n",
              "      }\n",
              "    </script>\n",
              "  </div>\n",
              "\n",
              "\n",
              "    <div id=\"df-87e0678b-b59b-4cfb-86c1-93efb155f298\">\n",
              "      <button class=\"colab-df-quickchart\" onclick=\"quickchart('df-87e0678b-b59b-4cfb-86c1-93efb155f298')\"\n",
              "                title=\"Suggest charts\"\n",
              "                style=\"display:none;\">\n",
              "\n",
              "<svg xmlns=\"http://www.w3.org/2000/svg\" height=\"24px\"viewBox=\"0 0 24 24\"\n",
              "     width=\"24px\">\n",
              "    <g>\n",
              "        <path d=\"M19 3H5c-1.1 0-2 .9-2 2v14c0 1.1.9 2 2 2h14c1.1 0 2-.9 2-2V5c0-1.1-.9-2-2-2zM9 17H7v-7h2v7zm4 0h-2V7h2v10zm4 0h-2v-4h2v4z\"/>\n",
              "    </g>\n",
              "</svg>\n",
              "      </button>\n",
              "\n",
              "<style>\n",
              "  .colab-df-quickchart {\n",
              "      --bg-color: #E8F0FE;\n",
              "      --fill-color: #1967D2;\n",
              "      --hover-bg-color: #E2EBFA;\n",
              "      --hover-fill-color: #174EA6;\n",
              "      --disabled-fill-color: #AAA;\n",
              "      --disabled-bg-color: #DDD;\n",
              "  }\n",
              "\n",
              "  [theme=dark] .colab-df-quickchart {\n",
              "      --bg-color: #3B4455;\n",
              "      --fill-color: #D2E3FC;\n",
              "      --hover-bg-color: #434B5C;\n",
              "      --hover-fill-color: #FFFFFF;\n",
              "      --disabled-bg-color: #3B4455;\n",
              "      --disabled-fill-color: #666;\n",
              "  }\n",
              "\n",
              "  .colab-df-quickchart {\n",
              "    background-color: var(--bg-color);\n",
              "    border: none;\n",
              "    border-radius: 50%;\n",
              "    cursor: pointer;\n",
              "    display: none;\n",
              "    fill: var(--fill-color);\n",
              "    height: 32px;\n",
              "    padding: 0;\n",
              "    width: 32px;\n",
              "  }\n",
              "\n",
              "  .colab-df-quickchart:hover {\n",
              "    background-color: var(--hover-bg-color);\n",
              "    box-shadow: 0 1px 2px rgba(60, 64, 67, 0.3), 0 1px 3px 1px rgba(60, 64, 67, 0.15);\n",
              "    fill: var(--button-hover-fill-color);\n",
              "  }\n",
              "\n",
              "  .colab-df-quickchart-complete:disabled,\n",
              "  .colab-df-quickchart-complete:disabled:hover {\n",
              "    background-color: var(--disabled-bg-color);\n",
              "    fill: var(--disabled-fill-color);\n",
              "    box-shadow: none;\n",
              "  }\n",
              "\n",
              "  .colab-df-spinner {\n",
              "    border: 2px solid var(--fill-color);\n",
              "    border-color: transparent;\n",
              "    border-bottom-color: var(--fill-color);\n",
              "    animation:\n",
              "      spin 1s steps(1) infinite;\n",
              "  }\n",
              "\n",
              "  @keyframes spin {\n",
              "    0% {\n",
              "      border-color: transparent;\n",
              "      border-bottom-color: var(--fill-color);\n",
              "      border-left-color: var(--fill-color);\n",
              "    }\n",
              "    20% {\n",
              "      border-color: transparent;\n",
              "      border-left-color: var(--fill-color);\n",
              "      border-top-color: var(--fill-color);\n",
              "    }\n",
              "    30% {\n",
              "      border-color: transparent;\n",
              "      border-left-color: var(--fill-color);\n",
              "      border-top-color: var(--fill-color);\n",
              "      border-right-color: var(--fill-color);\n",
              "    }\n",
              "    40% {\n",
              "      border-color: transparent;\n",
              "      border-right-color: var(--fill-color);\n",
              "      border-top-color: var(--fill-color);\n",
              "    }\n",
              "    60% {\n",
              "      border-color: transparent;\n",
              "      border-right-color: var(--fill-color);\n",
              "    }\n",
              "    80% {\n",
              "      border-color: transparent;\n",
              "      border-right-color: var(--fill-color);\n",
              "      border-bottom-color: var(--fill-color);\n",
              "    }\n",
              "    90% {\n",
              "      border-color: transparent;\n",
              "      border-bottom-color: var(--fill-color);\n",
              "    }\n",
              "  }\n",
              "</style>\n",
              "\n",
              "      <script>\n",
              "        async function quickchart(key) {\n",
              "          const quickchartButtonEl =\n",
              "            document.querySelector('#' + key + ' button');\n",
              "          quickchartButtonEl.disabled = true;  // To prevent multiple clicks.\n",
              "          quickchartButtonEl.classList.add('colab-df-spinner');\n",
              "          try {\n",
              "            const charts = await google.colab.kernel.invokeFunction(\n",
              "                'suggestCharts', [key], {});\n",
              "          } catch (error) {\n",
              "            console.error('Error during call to suggestCharts:', error);\n",
              "          }\n",
              "          quickchartButtonEl.classList.remove('colab-df-spinner');\n",
              "          quickchartButtonEl.classList.add('colab-df-quickchart-complete');\n",
              "        }\n",
              "        (() => {\n",
              "          let quickchartButtonEl =\n",
              "            document.querySelector('#df-87e0678b-b59b-4cfb-86c1-93efb155f298 button');\n",
              "          quickchartButtonEl.style.display =\n",
              "            google.colab.kernel.accessAllowed ? 'block' : 'none';\n",
              "        })();\n",
              "      </script>\n",
              "    </div>\n",
              "\n",
              "    </div>\n",
              "  </div>\n"
            ],
            "application/vnd.google.colaboratory.intrinsic+json": {
              "type": "dataframe",
              "variable_name": "df",
              "summary": "{\n  \"name\": \"df\",\n  \"rows\": 43739,\n  \"fields\": [\n    {\n      \"column\": \"Order_ID\",\n      \"properties\": {\n        \"dtype\": \"string\",\n        \"num_unique_values\": 43739,\n        \"samples\": [\n          \"vvgw032244127\",\n          \"fvml427733005\",\n          \"bphh205146945\"\n        ],\n        \"semantic_type\": \"\",\n        \"description\": \"\"\n      }\n    },\n    {\n      \"column\": \"Agent_Age\",\n      \"properties\": {\n        \"dtype\": \"number\",\n        \"std\": 5,\n        \"min\": 15,\n        \"max\": 50,\n        \"num_unique_values\": 22,\n        \"samples\": [\n          37,\n          31,\n          36\n        ],\n        \"semantic_type\": \"\",\n        \"description\": \"\"\n      }\n    },\n    {\n      \"column\": \"Agent_Rating\",\n      \"properties\": {\n        \"dtype\": \"number\",\n        \"std\": 0.3347164077108457,\n        \"min\": 1.0,\n        \"max\": 6.0,\n        \"num_unique_values\": 28,\n        \"samples\": [\n          4.1,\n          2.8,\n          4.0\n        ],\n        \"semantic_type\": \"\",\n        \"description\": \"\"\n      }\n    },\n    {\n      \"column\": \"Store_Latitude\",\n      \"properties\": {\n        \"dtype\": \"number\",\n        \"std\": 7.764225273804336,\n        \"min\": -30.902872,\n        \"max\": 30.914057,\n        \"num_unique_values\": 521,\n        \"samples\": [\n          -15.56155,\n          26.483042,\n          23.369746\n        ],\n        \"semantic_type\": \"\",\n        \"description\": \"\"\n      }\n    },\n    {\n      \"column\": \"Store_Longitude\",\n      \"properties\": {\n        \"dtype\": \"number\",\n        \"std\": 21.475004886563283,\n        \"min\": -88.366217,\n        \"max\": 88.433452,\n        \"num_unique_values\": 415,\n        \"samples\": [\n          72.794115,\n          80.26147,\n          75.810753\n        ],\n        \"semantic_type\": \"\",\n        \"description\": \"\"\n      }\n    },\n    {\n      \"column\": \"Drop_Latitude\",\n      \"properties\": {\n        \"dtype\": \"number\",\n        \"std\": 7.3429503397070075,\n        \"min\": 0.01,\n        \"max\": 31.054057,\n        \"num_unique_values\": 4367,\n        \"samples\": [\n          22.582996,\n          18.56144,\n          23.397804\n        ],\n        \"semantic_type\": \"\",\n        \"description\": \"\"\n      }\n    },\n    {\n      \"column\": \"Drop_Longitude\",\n      \"properties\": {\n        \"dtype\": \"number\",\n        \"std\": 21.15314817178604,\n        \"min\": 0.01,\n        \"max\": 88.563452,\n        \"num_unique_values\": 4367,\n        \"samples\": [\n          88.38231,\n          73.814855,\n          85.365146\n        ],\n        \"semantic_type\": \"\",\n        \"description\": \"\"\n      }\n    },\n    {\n      \"column\": \"Order_Date\",\n      \"properties\": {\n        \"dtype\": \"object\",\n        \"num_unique_values\": 44,\n        \"samples\": [\n          \"2022-03-03\",\n          \"2022-03-28\",\n          \"2022-03-18\"\n        ],\n        \"semantic_type\": \"\",\n        \"description\": \"\"\n      }\n    },\n    {\n      \"column\": \"Order_Time\",\n      \"properties\": {\n        \"dtype\": \"category\",\n        \"num_unique_values\": 177,\n        \"samples\": [\n          \"22:30:00\",\n          \"20:45:00\",\n          \"17:40:00\"\n        ],\n        \"semantic_type\": \"\",\n        \"description\": \"\"\n      }\n    },\n    {\n      \"column\": \"Pickup_Time\",\n      \"properties\": {\n        \"dtype\": \"object\",\n        \"num_unique_values\": 193,\n        \"samples\": [\n          \"22:25:00\",\n          \"19:35:00\",\n          \"17:55:00\"\n        ],\n        \"semantic_type\": \"\",\n        \"description\": \"\"\n      }\n    },\n    {\n      \"column\": \"Weather\",\n      \"properties\": {\n        \"dtype\": \"category\",\n        \"num_unique_values\": 6,\n        \"samples\": [\n          \"Sunny\",\n          \"Stormy\",\n          \"Windy\"\n        ],\n        \"semantic_type\": \"\",\n        \"description\": \"\"\n      }\n    },\n    {\n      \"column\": \"Traffic\",\n      \"properties\": {\n        \"dtype\": \"category\",\n        \"num_unique_values\": 5,\n        \"samples\": [\n          \"Jam \",\n          \"NaN \",\n          \"Low \"\n        ],\n        \"semantic_type\": \"\",\n        \"description\": \"\"\n      }\n    },\n    {\n      \"column\": \"Vehicle\",\n      \"properties\": {\n        \"dtype\": \"category\",\n        \"num_unique_values\": 4,\n        \"samples\": [\n          \"scooter \",\n          \"bicycle \",\n          \"motorcycle \"\n        ],\n        \"semantic_type\": \"\",\n        \"description\": \"\"\n      }\n    },\n    {\n      \"column\": \"Area\",\n      \"properties\": {\n        \"dtype\": \"category\",\n        \"num_unique_values\": 4,\n        \"samples\": [\n          \"Metropolitian \",\n          \"Other\",\n          \"Urban \"\n        ],\n        \"semantic_type\": \"\",\n        \"description\": \"\"\n      }\n    },\n    {\n      \"column\": \"Delivery_Time\",\n      \"properties\": {\n        \"dtype\": \"number\",\n        \"std\": 51,\n        \"min\": 10,\n        \"max\": 270,\n        \"num_unique_values\": 89,\n        \"samples\": [\n          240,\n          13,\n          135\n        ],\n        \"semantic_type\": \"\",\n        \"description\": \"\"\n      }\n    },\n    {\n      \"column\": \"Category\",\n      \"properties\": {\n        \"dtype\": \"category\",\n        \"num_unique_values\": 16,\n        \"samples\": [\n          \"Clothing\",\n          \"Electronics\",\n          \"Snacks\"\n        ],\n        \"semantic_type\": \"\",\n        \"description\": \"\"\n      }\n    }\n  ]\n}"
            }
          },
          "metadata": {},
          "execution_count": 5
        }
      ]
    },
    {
      "cell_type": "markdown",
      "source": [
        "### Dataset Rows & Columns count"
      ],
      "metadata": {
        "id": "7hBIi_osiCS2"
      }
    },
    {
      "cell_type": "code",
      "source": [
        "df.shape"
      ],
      "metadata": {
        "id": "Kllu7SJgmLij",
        "colab": {
          "base_uri": "https://localhost:8080/"
        },
        "outputId": "4e127f39-0cb7-474a-da24-86d5ef95f71f"
      },
      "execution_count": 6,
      "outputs": [
        {
          "output_type": "execute_result",
          "data": {
            "text/plain": [
              "(43739, 16)"
            ]
          },
          "metadata": {},
          "execution_count": 6
        }
      ]
    },
    {
      "cell_type": "markdown",
      "source": [
        "### Dataset Information"
      ],
      "metadata": {
        "id": "JlHwYmJAmNHm"
      }
    },
    {
      "cell_type": "code",
      "source": [
        "df.dtypes"
      ],
      "metadata": {
        "id": "e9hRXRi6meOf",
        "colab": {
          "base_uri": "https://localhost:8080/",
          "height": 585
        },
        "outputId": "dc492bb4-aa03-4b02-bd23-762d814ad950"
      },
      "execution_count": 7,
      "outputs": [
        {
          "output_type": "execute_result",
          "data": {
            "text/plain": [
              "Order_ID            object\n",
              "Agent_Age            int64\n",
              "Agent_Rating       float64\n",
              "Store_Latitude     float64\n",
              "Store_Longitude    float64\n",
              "Drop_Latitude      float64\n",
              "Drop_Longitude     float64\n",
              "Order_Date          object\n",
              "Order_Time          object\n",
              "Pickup_Time         object\n",
              "Weather             object\n",
              "Traffic             object\n",
              "Vehicle             object\n",
              "Area                object\n",
              "Delivery_Time        int64\n",
              "Category            object\n",
              "dtype: object"
            ],
            "text/html": [
              "<div>\n",
              "<style scoped>\n",
              "    .dataframe tbody tr th:only-of-type {\n",
              "        vertical-align: middle;\n",
              "    }\n",
              "\n",
              "    .dataframe tbody tr th {\n",
              "        vertical-align: top;\n",
              "    }\n",
              "\n",
              "    .dataframe thead th {\n",
              "        text-align: right;\n",
              "    }\n",
              "</style>\n",
              "<table border=\"1\" class=\"dataframe\">\n",
              "  <thead>\n",
              "    <tr style=\"text-align: right;\">\n",
              "      <th></th>\n",
              "      <th>0</th>\n",
              "    </tr>\n",
              "  </thead>\n",
              "  <tbody>\n",
              "    <tr>\n",
              "      <th>Order_ID</th>\n",
              "      <td>object</td>\n",
              "    </tr>\n",
              "    <tr>\n",
              "      <th>Agent_Age</th>\n",
              "      <td>int64</td>\n",
              "    </tr>\n",
              "    <tr>\n",
              "      <th>Agent_Rating</th>\n",
              "      <td>float64</td>\n",
              "    </tr>\n",
              "    <tr>\n",
              "      <th>Store_Latitude</th>\n",
              "      <td>float64</td>\n",
              "    </tr>\n",
              "    <tr>\n",
              "      <th>Store_Longitude</th>\n",
              "      <td>float64</td>\n",
              "    </tr>\n",
              "    <tr>\n",
              "      <th>Drop_Latitude</th>\n",
              "      <td>float64</td>\n",
              "    </tr>\n",
              "    <tr>\n",
              "      <th>Drop_Longitude</th>\n",
              "      <td>float64</td>\n",
              "    </tr>\n",
              "    <tr>\n",
              "      <th>Order_Date</th>\n",
              "      <td>object</td>\n",
              "    </tr>\n",
              "    <tr>\n",
              "      <th>Order_Time</th>\n",
              "      <td>object</td>\n",
              "    </tr>\n",
              "    <tr>\n",
              "      <th>Pickup_Time</th>\n",
              "      <td>object</td>\n",
              "    </tr>\n",
              "    <tr>\n",
              "      <th>Weather</th>\n",
              "      <td>object</td>\n",
              "    </tr>\n",
              "    <tr>\n",
              "      <th>Traffic</th>\n",
              "      <td>object</td>\n",
              "    </tr>\n",
              "    <tr>\n",
              "      <th>Vehicle</th>\n",
              "      <td>object</td>\n",
              "    </tr>\n",
              "    <tr>\n",
              "      <th>Area</th>\n",
              "      <td>object</td>\n",
              "    </tr>\n",
              "    <tr>\n",
              "      <th>Delivery_Time</th>\n",
              "      <td>int64</td>\n",
              "    </tr>\n",
              "    <tr>\n",
              "      <th>Category</th>\n",
              "      <td>object</td>\n",
              "    </tr>\n",
              "  </tbody>\n",
              "</table>\n",
              "</div><br><label><b>dtype:</b> object</label>"
            ]
          },
          "metadata": {},
          "execution_count": 7
        }
      ]
    },
    {
      "cell_type": "markdown",
      "source": [
        "#### Duplicate Values"
      ],
      "metadata": {
        "id": "35m5QtbWiB9F"
      }
    },
    {
      "cell_type": "code",
      "source": [
        "df.duplicated().sum()"
      ],
      "metadata": {
        "id": "1sLdpKYkmox0",
        "colab": {
          "base_uri": "https://localhost:8080/"
        },
        "outputId": "cca5651c-53d2-48ef-e302-f2d1c2b79254"
      },
      "execution_count": 8,
      "outputs": [
        {
          "output_type": "execute_result",
          "data": {
            "text/plain": [
              "np.int64(0)"
            ]
          },
          "metadata": {},
          "execution_count": 8
        }
      ]
    },
    {
      "cell_type": "markdown",
      "source": [
        "#### Missing Values/Null Values"
      ],
      "metadata": {
        "id": "PoPl-ycgm1ru"
      }
    },
    {
      "cell_type": "code",
      "source": [
        "print(df.isnull().sum())"
      ],
      "metadata": {
        "id": "GgHWkxvamxVg",
        "colab": {
          "base_uri": "https://localhost:8080/"
        },
        "outputId": "0b8c2277-2616-4c60-9f11-693b6a7cc73c"
      },
      "execution_count": 9,
      "outputs": [
        {
          "output_type": "stream",
          "name": "stdout",
          "text": [
            "Order_ID            0\n",
            "Agent_Age           0\n",
            "Agent_Rating       54\n",
            "Store_Latitude      0\n",
            "Store_Longitude     0\n",
            "Drop_Latitude       0\n",
            "Drop_Longitude      0\n",
            "Order_Date          0\n",
            "Order_Time          0\n",
            "Pickup_Time         0\n",
            "Weather            91\n",
            "Traffic             0\n",
            "Vehicle             0\n",
            "Area                0\n",
            "Delivery_Time       0\n",
            "Category            0\n",
            "dtype: int64\n"
          ]
        }
      ]
    },
    {
      "cell_type": "markdown",
      "source": [
        "The dataset doesnot contain any dupliacte entry but there is some missing values for Agent Rating and Weather Condition."
      ],
      "metadata": {
        "id": "gfoNAAC-nUe_"
      }
    },
    {
      "cell_type": "markdown",
      "source": [
        "## ***2. Understanding Your Variables***"
      ],
      "metadata": {
        "id": "nA9Y7ga8ng1Z"
      }
    },
    {
      "cell_type": "code",
      "source": [
        "# Dataset Columns\n",
        "df.columns"
      ],
      "metadata": {
        "id": "j7xfkqrt5Ag5",
        "colab": {
          "base_uri": "https://localhost:8080/"
        },
        "outputId": "fd091e1b-08f1-45f0-e6c4-9174856bab8d"
      },
      "execution_count": 10,
      "outputs": [
        {
          "output_type": "execute_result",
          "data": {
            "text/plain": [
              "Index(['Order_ID', 'Agent_Age', 'Agent_Rating', 'Store_Latitude',\n",
              "       'Store_Longitude', 'Drop_Latitude', 'Drop_Longitude', 'Order_Date',\n",
              "       'Order_Time', 'Pickup_Time', 'Weather', 'Traffic', 'Vehicle', 'Area',\n",
              "       'Delivery_Time', 'Category'],\n",
              "      dtype='object')"
            ]
          },
          "metadata": {},
          "execution_count": 10
        }
      ]
    },
    {
      "cell_type": "code",
      "source": [
        "# Dataset Statistical Description\n",
        "df.describe()"
      ],
      "metadata": {
        "id": "DnOaZdaE5Q5t",
        "colab": {
          "base_uri": "https://localhost:8080/",
          "height": 300
        },
        "outputId": "2a5f4c5a-08b7-4d4d-88d9-8b2d6dec5487"
      },
      "execution_count": 11,
      "outputs": [
        {
          "output_type": "execute_result",
          "data": {
            "text/plain": [
              "          Agent_Age  Agent_Rating  Store_Latitude  Store_Longitude  \\\n",
              "count  43739.000000  43685.000000    43739.000000     43739.000000   \n",
              "mean      29.567137      4.633780       17.210960        70.661177   \n",
              "std        5.815155      0.334716        7.764225        21.475005   \n",
              "min       15.000000      1.000000      -30.902872       -88.366217   \n",
              "25%       25.000000      4.500000       12.933298        73.170283   \n",
              "50%       30.000000      4.700000       18.551440        75.898497   \n",
              "75%       35.000000      4.900000       22.732225        78.045359   \n",
              "max       50.000000      6.000000       30.914057        88.433452   \n",
              "\n",
              "       Drop_Latitude  Drop_Longitude  Delivery_Time  \n",
              "count   43739.000000    43739.000000   43739.000000  \n",
              "mean       17.459031       70.821842     124.905645  \n",
              "std         7.342950       21.153148      51.915451  \n",
              "min         0.010000        0.010000      10.000000  \n",
              "25%        12.985996       73.280000      90.000000  \n",
              "50%        18.633626       76.002574     125.000000  \n",
              "75%        22.785049       78.104095     160.000000  \n",
              "max        31.054057       88.563452     270.000000  "
            ],
            "text/html": [
              "\n",
              "  <div id=\"df-1988dd5d-1bb5-4693-84d3-74aba4f21692\" class=\"colab-df-container\">\n",
              "    <div>\n",
              "<style scoped>\n",
              "    .dataframe tbody tr th:only-of-type {\n",
              "        vertical-align: middle;\n",
              "    }\n",
              "\n",
              "    .dataframe tbody tr th {\n",
              "        vertical-align: top;\n",
              "    }\n",
              "\n",
              "    .dataframe thead th {\n",
              "        text-align: right;\n",
              "    }\n",
              "</style>\n",
              "<table border=\"1\" class=\"dataframe\">\n",
              "  <thead>\n",
              "    <tr style=\"text-align: right;\">\n",
              "      <th></th>\n",
              "      <th>Agent_Age</th>\n",
              "      <th>Agent_Rating</th>\n",
              "      <th>Store_Latitude</th>\n",
              "      <th>Store_Longitude</th>\n",
              "      <th>Drop_Latitude</th>\n",
              "      <th>Drop_Longitude</th>\n",
              "      <th>Delivery_Time</th>\n",
              "    </tr>\n",
              "  </thead>\n",
              "  <tbody>\n",
              "    <tr>\n",
              "      <th>count</th>\n",
              "      <td>43739.000000</td>\n",
              "      <td>43685.000000</td>\n",
              "      <td>43739.000000</td>\n",
              "      <td>43739.000000</td>\n",
              "      <td>43739.000000</td>\n",
              "      <td>43739.000000</td>\n",
              "      <td>43739.000000</td>\n",
              "    </tr>\n",
              "    <tr>\n",
              "      <th>mean</th>\n",
              "      <td>29.567137</td>\n",
              "      <td>4.633780</td>\n",
              "      <td>17.210960</td>\n",
              "      <td>70.661177</td>\n",
              "      <td>17.459031</td>\n",
              "      <td>70.821842</td>\n",
              "      <td>124.905645</td>\n",
              "    </tr>\n",
              "    <tr>\n",
              "      <th>std</th>\n",
              "      <td>5.815155</td>\n",
              "      <td>0.334716</td>\n",
              "      <td>7.764225</td>\n",
              "      <td>21.475005</td>\n",
              "      <td>7.342950</td>\n",
              "      <td>21.153148</td>\n",
              "      <td>51.915451</td>\n",
              "    </tr>\n",
              "    <tr>\n",
              "      <th>min</th>\n",
              "      <td>15.000000</td>\n",
              "      <td>1.000000</td>\n",
              "      <td>-30.902872</td>\n",
              "      <td>-88.366217</td>\n",
              "      <td>0.010000</td>\n",
              "      <td>0.010000</td>\n",
              "      <td>10.000000</td>\n",
              "    </tr>\n",
              "    <tr>\n",
              "      <th>25%</th>\n",
              "      <td>25.000000</td>\n",
              "      <td>4.500000</td>\n",
              "      <td>12.933298</td>\n",
              "      <td>73.170283</td>\n",
              "      <td>12.985996</td>\n",
              "      <td>73.280000</td>\n",
              "      <td>90.000000</td>\n",
              "    </tr>\n",
              "    <tr>\n",
              "      <th>50%</th>\n",
              "      <td>30.000000</td>\n",
              "      <td>4.700000</td>\n",
              "      <td>18.551440</td>\n",
              "      <td>75.898497</td>\n",
              "      <td>18.633626</td>\n",
              "      <td>76.002574</td>\n",
              "      <td>125.000000</td>\n",
              "    </tr>\n",
              "    <tr>\n",
              "      <th>75%</th>\n",
              "      <td>35.000000</td>\n",
              "      <td>4.900000</td>\n",
              "      <td>22.732225</td>\n",
              "      <td>78.045359</td>\n",
              "      <td>22.785049</td>\n",
              "      <td>78.104095</td>\n",
              "      <td>160.000000</td>\n",
              "    </tr>\n",
              "    <tr>\n",
              "      <th>max</th>\n",
              "      <td>50.000000</td>\n",
              "      <td>6.000000</td>\n",
              "      <td>30.914057</td>\n",
              "      <td>88.433452</td>\n",
              "      <td>31.054057</td>\n",
              "      <td>88.563452</td>\n",
              "      <td>270.000000</td>\n",
              "    </tr>\n",
              "  </tbody>\n",
              "</table>\n",
              "</div>\n",
              "    <div class=\"colab-df-buttons\">\n",
              "\n",
              "  <div class=\"colab-df-container\">\n",
              "    <button class=\"colab-df-convert\" onclick=\"convertToInteractive('df-1988dd5d-1bb5-4693-84d3-74aba4f21692')\"\n",
              "            title=\"Convert this dataframe to an interactive table.\"\n",
              "            style=\"display:none;\">\n",
              "\n",
              "  <svg xmlns=\"http://www.w3.org/2000/svg\" height=\"24px\" viewBox=\"0 -960 960 960\">\n",
              "    <path d=\"M120-120v-720h720v720H120Zm60-500h600v-160H180v160Zm220 220h160v-160H400v160Zm0 220h160v-160H400v160ZM180-400h160v-160H180v160Zm440 0h160v-160H620v160ZM180-180h160v-160H180v160Zm440 0h160v-160H620v160Z\"/>\n",
              "  </svg>\n",
              "    </button>\n",
              "\n",
              "  <style>\n",
              "    .colab-df-container {\n",
              "      display:flex;\n",
              "      gap: 12px;\n",
              "    }\n",
              "\n",
              "    .colab-df-convert {\n",
              "      background-color: #E8F0FE;\n",
              "      border: none;\n",
              "      border-radius: 50%;\n",
              "      cursor: pointer;\n",
              "      display: none;\n",
              "      fill: #1967D2;\n",
              "      height: 32px;\n",
              "      padding: 0 0 0 0;\n",
              "      width: 32px;\n",
              "    }\n",
              "\n",
              "    .colab-df-convert:hover {\n",
              "      background-color: #E2EBFA;\n",
              "      box-shadow: 0px 1px 2px rgba(60, 64, 67, 0.3), 0px 1px 3px 1px rgba(60, 64, 67, 0.15);\n",
              "      fill: #174EA6;\n",
              "    }\n",
              "\n",
              "    .colab-df-buttons div {\n",
              "      margin-bottom: 4px;\n",
              "    }\n",
              "\n",
              "    [theme=dark] .colab-df-convert {\n",
              "      background-color: #3B4455;\n",
              "      fill: #D2E3FC;\n",
              "    }\n",
              "\n",
              "    [theme=dark] .colab-df-convert:hover {\n",
              "      background-color: #434B5C;\n",
              "      box-shadow: 0px 1px 3px 1px rgba(0, 0, 0, 0.15);\n",
              "      filter: drop-shadow(0px 1px 2px rgba(0, 0, 0, 0.3));\n",
              "      fill: #FFFFFF;\n",
              "    }\n",
              "  </style>\n",
              "\n",
              "    <script>\n",
              "      const buttonEl =\n",
              "        document.querySelector('#df-1988dd5d-1bb5-4693-84d3-74aba4f21692 button.colab-df-convert');\n",
              "      buttonEl.style.display =\n",
              "        google.colab.kernel.accessAllowed ? 'block' : 'none';\n",
              "\n",
              "      async function convertToInteractive(key) {\n",
              "        const element = document.querySelector('#df-1988dd5d-1bb5-4693-84d3-74aba4f21692');\n",
              "        const dataTable =\n",
              "          await google.colab.kernel.invokeFunction('convertToInteractive',\n",
              "                                                    [key], {});\n",
              "        if (!dataTable) return;\n",
              "\n",
              "        const docLinkHtml = 'Like what you see? Visit the ' +\n",
              "          '<a target=\"_blank\" href=https://colab.research.google.com/notebooks/data_table.ipynb>data table notebook</a>'\n",
              "          + ' to learn more about interactive tables.';\n",
              "        element.innerHTML = '';\n",
              "        dataTable['output_type'] = 'display_data';\n",
              "        await google.colab.output.renderOutput(dataTable, element);\n",
              "        const docLink = document.createElement('div');\n",
              "        docLink.innerHTML = docLinkHtml;\n",
              "        element.appendChild(docLink);\n",
              "      }\n",
              "    </script>\n",
              "  </div>\n",
              "\n",
              "\n",
              "    <div id=\"df-bc66e42b-3cf6-4d20-80e9-0460b40343e9\">\n",
              "      <button class=\"colab-df-quickchart\" onclick=\"quickchart('df-bc66e42b-3cf6-4d20-80e9-0460b40343e9')\"\n",
              "                title=\"Suggest charts\"\n",
              "                style=\"display:none;\">\n",
              "\n",
              "<svg xmlns=\"http://www.w3.org/2000/svg\" height=\"24px\"viewBox=\"0 0 24 24\"\n",
              "     width=\"24px\">\n",
              "    <g>\n",
              "        <path d=\"M19 3H5c-1.1 0-2 .9-2 2v14c0 1.1.9 2 2 2h14c1.1 0 2-.9 2-2V5c0-1.1-.9-2-2-2zM9 17H7v-7h2v7zm4 0h-2V7h2v10zm4 0h-2v-4h2v4z\"/>\n",
              "    </g>\n",
              "</svg>\n",
              "      </button>\n",
              "\n",
              "<style>\n",
              "  .colab-df-quickchart {\n",
              "      --bg-color: #E8F0FE;\n",
              "      --fill-color: #1967D2;\n",
              "      --hover-bg-color: #E2EBFA;\n",
              "      --hover-fill-color: #174EA6;\n",
              "      --disabled-fill-color: #AAA;\n",
              "      --disabled-bg-color: #DDD;\n",
              "  }\n",
              "\n",
              "  [theme=dark] .colab-df-quickchart {\n",
              "      --bg-color: #3B4455;\n",
              "      --fill-color: #D2E3FC;\n",
              "      --hover-bg-color: #434B5C;\n",
              "      --hover-fill-color: #FFFFFF;\n",
              "      --disabled-bg-color: #3B4455;\n",
              "      --disabled-fill-color: #666;\n",
              "  }\n",
              "\n",
              "  .colab-df-quickchart {\n",
              "    background-color: var(--bg-color);\n",
              "    border: none;\n",
              "    border-radius: 50%;\n",
              "    cursor: pointer;\n",
              "    display: none;\n",
              "    fill: var(--fill-color);\n",
              "    height: 32px;\n",
              "    padding: 0;\n",
              "    width: 32px;\n",
              "  }\n",
              "\n",
              "  .colab-df-quickchart:hover {\n",
              "    background-color: var(--hover-bg-color);\n",
              "    box-shadow: 0 1px 2px rgba(60, 64, 67, 0.3), 0 1px 3px 1px rgba(60, 64, 67, 0.15);\n",
              "    fill: var(--button-hover-fill-color);\n",
              "  }\n",
              "\n",
              "  .colab-df-quickchart-complete:disabled,\n",
              "  .colab-df-quickchart-complete:disabled:hover {\n",
              "    background-color: var(--disabled-bg-color);\n",
              "    fill: var(--disabled-fill-color);\n",
              "    box-shadow: none;\n",
              "  }\n",
              "\n",
              "  .colab-df-spinner {\n",
              "    border: 2px solid var(--fill-color);\n",
              "    border-color: transparent;\n",
              "    border-bottom-color: var(--fill-color);\n",
              "    animation:\n",
              "      spin 1s steps(1) infinite;\n",
              "  }\n",
              "\n",
              "  @keyframes spin {\n",
              "    0% {\n",
              "      border-color: transparent;\n",
              "      border-bottom-color: var(--fill-color);\n",
              "      border-left-color: var(--fill-color);\n",
              "    }\n",
              "    20% {\n",
              "      border-color: transparent;\n",
              "      border-left-color: var(--fill-color);\n",
              "      border-top-color: var(--fill-color);\n",
              "    }\n",
              "    30% {\n",
              "      border-color: transparent;\n",
              "      border-left-color: var(--fill-color);\n",
              "      border-top-color: var(--fill-color);\n",
              "      border-right-color: var(--fill-color);\n",
              "    }\n",
              "    40% {\n",
              "      border-color: transparent;\n",
              "      border-right-color: var(--fill-color);\n",
              "      border-top-color: var(--fill-color);\n",
              "    }\n",
              "    60% {\n",
              "      border-color: transparent;\n",
              "      border-right-color: var(--fill-color);\n",
              "    }\n",
              "    80% {\n",
              "      border-color: transparent;\n",
              "      border-right-color: var(--fill-color);\n",
              "      border-bottom-color: var(--fill-color);\n",
              "    }\n",
              "    90% {\n",
              "      border-color: transparent;\n",
              "      border-bottom-color: var(--fill-color);\n",
              "    }\n",
              "  }\n",
              "</style>\n",
              "\n",
              "      <script>\n",
              "        async function quickchart(key) {\n",
              "          const quickchartButtonEl =\n",
              "            document.querySelector('#' + key + ' button');\n",
              "          quickchartButtonEl.disabled = true;  // To prevent multiple clicks.\n",
              "          quickchartButtonEl.classList.add('colab-df-spinner');\n",
              "          try {\n",
              "            const charts = await google.colab.kernel.invokeFunction(\n",
              "                'suggestCharts', [key], {});\n",
              "          } catch (error) {\n",
              "            console.error('Error during call to suggestCharts:', error);\n",
              "          }\n",
              "          quickchartButtonEl.classList.remove('colab-df-spinner');\n",
              "          quickchartButtonEl.classList.add('colab-df-quickchart-complete');\n",
              "        }\n",
              "        (() => {\n",
              "          let quickchartButtonEl =\n",
              "            document.querySelector('#df-bc66e42b-3cf6-4d20-80e9-0460b40343e9 button');\n",
              "          quickchartButtonEl.style.display =\n",
              "            google.colab.kernel.accessAllowed ? 'block' : 'none';\n",
              "        })();\n",
              "      </script>\n",
              "    </div>\n",
              "\n",
              "    </div>\n",
              "  </div>\n"
            ],
            "application/vnd.google.colaboratory.intrinsic+json": {
              "type": "dataframe",
              "summary": "{\n  \"name\": \"df\",\n  \"rows\": 8,\n  \"fields\": [\n    {\n      \"column\": \"Agent_Age\",\n      \"properties\": {\n        \"dtype\": \"number\",\n        \"std\": 15454.461563201789,\n        \"min\": 5.8151553619999765,\n        \"max\": 43739.0,\n        \"num_unique_values\": 8,\n        \"samples\": [\n          29.567136880129862,\n          30.0,\n          43739.0\n        ],\n        \"semantic_type\": \"\",\n        \"description\": \"\"\n      }\n    },\n    {\n      \"column\": \"Agent_Rating\",\n      \"properties\": {\n        \"dtype\": \"number\",\n        \"std\": 15443.663338967459,\n        \"min\": 0.3347164077108457,\n        \"max\": 43685.0,\n        \"num_unique_values\": 8,\n        \"samples\": [\n          4.633780473846858,\n          4.7,\n          43685.0\n        ],\n        \"semantic_type\": \"\",\n        \"description\": \"\"\n      }\n    },\n    {\n      \"column\": \"Store_Latitude\",\n      \"properties\": {\n        \"dtype\": \"number\",\n        \"std\": 15460.082463413552,\n        \"min\": -30.902872,\n        \"max\": 43739.0,\n        \"num_unique_values\": 8,\n        \"samples\": [\n          17.210959870596035,\n          18.55144,\n          43739.0\n        ],\n        \"semantic_type\": \"\",\n        \"description\": \"\"\n      }\n    },\n    {\n      \"column\": \"Store_Longitude\",\n      \"properties\": {\n        \"dtype\": \"number\",\n        \"std\": 15448.05346760169,\n        \"min\": -88.366217,\n        \"max\": 43739.0,\n        \"num_unique_values\": 8,\n        \"samples\": [\n          70.66117650789914,\n          75.898497,\n          43739.0\n        ],\n        \"semantic_type\": \"\",\n        \"description\": \"\"\n      }\n    },\n    {\n      \"column\": \"Drop_Latitude\",\n      \"properties\": {\n        \"dtype\": \"number\",\n        \"std\": 15458.50510875624,\n        \"min\": 0.01,\n        \"max\": 43739.0,\n        \"num_unique_values\": 8,\n        \"samples\": [\n          17.459030825007428,\n          18.633626,\n          43739.0\n        ],\n        \"semantic_type\": \"\",\n        \"description\": \"\"\n      }\n    },\n    {\n      \"column\": \"Drop_Longitude\",\n      \"properties\": {\n        \"dtype\": \"number\",\n        \"std\": 15443.499276459741,\n        \"min\": 0.01,\n        \"max\": 43739.0,\n        \"num_unique_values\": 8,\n        \"samples\": [\n          70.82184159461808,\n          76.002574,\n          43739.0\n        ],\n        \"semantic_type\": \"\",\n        \"description\": \"\"\n      }\n    },\n    {\n      \"column\": \"Delivery_Time\",\n      \"properties\": {\n        \"dtype\": \"number\",\n        \"std\": 15422.251924624488,\n        \"min\": 10.0,\n        \"max\": 43739.0,\n        \"num_unique_values\": 8,\n        \"samples\": [\n          124.90564484784746,\n          125.0,\n          43739.0\n        ],\n        \"semantic_type\": \"\",\n        \"description\": \"\"\n      }\n    }\n  ]\n}"
            }
          },
          "metadata": {},
          "execution_count": 11
        }
      ]
    },
    {
      "cell_type": "markdown",
      "source": [
        "### Variables Description"
      ],
      "metadata": {
        "id": "PBTbrJXOngz2"
      }
    },
    {
      "cell_type": "markdown",
      "source": [
        "The dataset contains detailed information about orders, agents, and delivery conditions:\n",
        "\n",
        "● **Order_ID**: Unique identifier for each order.\n",
        "\n",
        "● **Agent_Age**: Age of the delivery agent.\n",
        "\n",
        "● **Agent_Rating**: Rating of the delivery agent.\n",
        "\n",
        "● **Store_Latitude/Longitude**: Geographic location of the store.\n",
        "\n",
        "● **Drop_Latitude/Longitude**: Geographic location of the delivery address.\n",
        "\n",
        "● **Order_Date/Order_Time**: Date and time when the order was placed.\n",
        "\n",
        "● **Pickup_Time**: Time when the delivery agent picked up the order.\n",
        "\n",
        "● **Weather**: Weather conditions during delivery.\n",
        "\n",
        "● **Traffic**: Traffic conditions during delivery.\n",
        "\n",
        "● **Vehicle**: Mode of transportation used for delivery.\n",
        "\n",
        "● **Area**: Type of delivery area (Urban/Metropolitan).\n",
        "\n",
        "● **Delivery_Time**: Target variable representing the actual time taken for delivery (in hours).\n",
        "\n",
        "● **Category**: Category of the product being delivered."
      ],
      "metadata": {
        "id": "aJV4KIxSnxay"
      }
    },
    {
      "cell_type": "markdown",
      "source": [
        "## 3. ***Data Wrangling***"
      ],
      "metadata": {
        "id": "dauF4eBmngu3"
      }
    },
    {
      "cell_type": "markdown",
      "source": [
        "### Data Wrangling Code"
      ],
      "metadata": {
        "id": "bKJF3rekwFvQ"
      }
    },
    {
      "cell_type": "code",
      "source": [
        "df.drop('Order_ID', axis=1, inplace=True)\n",
        "df.drop('Category', axis=1, inplace=True)"
      ],
      "metadata": {
        "id": "wk-9a2fpoLcV"
      },
      "execution_count": 36,
      "outputs": []
    },
    {
      "cell_type": "markdown",
      "source": [
        "Both 'OrderID' and 'Product Category' were removed to eliminate irrelevant or non-informative columns. 'OrderID' is just a unique identifier and does not help in prediction, while 'Product Category' was not relevant to modeling delivery time. This streamlines the dataset, focusing only on useful features and improving model performance"
      ],
      "metadata": {
        "id": "LbyXE7I1olp8"
      }
    },
    {
      "cell_type": "markdown",
      "source": [
        "## ***4. Data Vizualization, Storytelling & Experimenting with charts : Understand the relationships between variables***"
      ],
      "metadata": {
        "id": "GF8Ens_Soomf"
      }
    },
    {
      "cell_type": "markdown",
      "source": [
        "#### Delivery Time by Vehicle Type"
      ],
      "metadata": {
        "id": "0wOQAZs5pc--"
      }
    },
    {
      "cell_type": "code",
      "source": [
        "plt.figure(figsize=(10,6))\n",
        "sns.histplot(df['Delivery_Time'], bins=30, kde=True)\n",
        "plt.title('Distribution of Delivery Time')\n",
        "plt.show()"
      ],
      "metadata": {
        "id": "7v_ESjsspbW7",
        "colab": {
          "base_uri": "https://localhost:8080/",
          "height": 564
        },
        "outputId": "8068dffe-b834-496a-9d08-3d2ee52c7c9d"
      },
      "execution_count": 13,
      "outputs": [
        {
          "output_type": "display_data",
          "data": {
            "text/plain": [
              "<Figure size 1000x600 with 1 Axes>"
            ],
            "image/png": "[encoded data removed]"
          },
          "metadata": {}
        }
      ]
    },
    {
      "cell_type": "markdown",
      "source": [
        "The histogram was chosen because it clearly shows the distribution and frequency of delivery times, making it easy to spot typical values and outliers."
      ],
      "metadata": {
        "id": "XESiWehPqBRc"
      }
    },
    {
      "cell_type": "markdown",
      "source": [
        "Most deliveries fall between 100 and 150 minutes, but the presence of long delays is notable and indicates some inefficiencies."
      ],
      "metadata": {
        "id": "C_j1G7yiqdRP"
      }
    },
    {
      "cell_type": "markdown",
      "source": [
        "These insights can lead to business improvements by focusing actions on reducing late deliveries. However, if long delivery times persist, they can harm customer satisfaction and potentially lead to negative business growth."
      ],
      "metadata": {
        "id": "3cspy4FjqxJW"
      }
    },
    {
      "cell_type": "markdown",
      "source": [
        "#### Delivery Time by Weather"
      ],
      "metadata": {
        "id": "4Of9eVA-YrdM"
      }
    },
    {
      "cell_type": "code",
      "source": [
        "sns.boxplot(x=\"Weather\", y=\"Delivery_Time\", data=df)\n",
        "plt.title(\"Delivery Time by Weather\")\n",
        "plt.show()"
      ],
      "metadata": {
        "id": "irlUoxc8YrdO",
        "colab": {
          "base_uri": "https://localhost:8080/",
          "height": 472
        },
        "outputId": "9fe35e9f-3c0e-4fcc-bc6f-fc21fcbca676"
      },
      "execution_count": 14,
      "outputs": [
        {
          "output_type": "display_data",
          "data": {
            "text/plain": [
              "<Figure size 640x480 with 1 Axes>"
            ],
            "image/png": "[encoded data removed]"
          },
          "metadata": {}
        }
      ]
    },
    {
      "cell_type": "markdown",
      "source": [
        "The boxplot was chosen because it easily compares delivery times across different weather conditions, highlighting medians and outliers for each category."
      ],
      "metadata": {
        "id": "aJRCwT6DYrdO"
      }
    },
    {
      "cell_type": "markdown",
      "source": [
        "Deliveries take less time in sunny weather and are slower during cloudy and foggy conditions, suggesting weather impacts efficiency."
      ],
      "metadata": {
        "id": "Xx8WAJvtYrdO"
      }
    },
    {
      "cell_type": "markdown",
      "source": [
        "These insights help by showing where delays are likely, supporting better resource planning. Negative impact occurs mainly during fog and cloudy weather, leading to slower deliveries and worse customer experience if not addressed."
      ],
      "metadata": {
        "id": "jLNxxz7MYrdP"
      }
    },
    {
      "cell_type": "markdown",
      "source": [
        "#### Delivery Time by Traffic Level"
      ],
      "metadata": {
        "id": "OH-pJp9IphqM"
      }
    },
    {
      "cell_type": "code",
      "source": [
        "# Chart - 6 visualization code\n",
        "sns.violinplot(x=\"Traffic\", y=\"Delivery_Time\", data=df)\n",
        "plt.title(\"Delivery Time Distribution by Traffic\")\n",
        "plt.show()\n"
      ],
      "metadata": {
        "id": "kuRf4wtuphqN",
        "colab": {
          "base_uri": "https://localhost:8080/",
          "height": 472
        },
        "outputId": "36bd538b-6916-4341-d5a6-503b5d067e62"
      },
      "execution_count": 15,
      "outputs": [
        {
          "output_type": "display_data",
          "data": {
            "text/plain": [
              "<Figure size 640x480 with 1 Axes>"
            ],
            "image/png": "[encoded data removed]"
          },
          "metadata": {}
        }
      ]
    },
    {
      "cell_type": "markdown",
      "source": [
        "The violin plot was chosen because it reveals the full distribution and variability of delivery times across different traffic conditions, not just the averages."
      ],
      "metadata": {
        "id": "loh7H2nzphqN"
      }
    },
    {
      "cell_type": "markdown",
      "source": [
        "Deliveries in low traffic are generally faster and less variable, while those in high traffic or jams have longer and more spread-out delivery times."
      ],
      "metadata": {
        "id": "VECbqPI7phqN"
      }
    },
    {
      "cell_type": "markdown",
      "source": [
        "These insights support business improvements by highlighting the need to plan around peak traffic periods. Persistently long deliveries in high-traffic conditions can negatively impact customer satisfaction and growth if mitigation strategies are not implemented."
      ],
      "metadata": {
        "id": "DW4_bGpfphqN"
      }
    },
    {
      "cell_type": "markdown",
      "source": [
        "#### Delivery Time vs Agent Rating"
      ],
      "metadata": {
        "id": "PIIx-8_IphqN"
      }
    },
    {
      "cell_type": "code",
      "source": [
        "sns.scatterplot(x=\"Agent_Rating\", y=\"Delivery_Time\", data=df)\n",
        "plt.title(\"Agent Rating vs Delivery Time\")\n",
        "plt.show()"
      ],
      "metadata": {
        "id": "lqAIGUfyphqO",
        "colab": {
          "base_uri": "https://localhost:8080/",
          "height": 472
        },
        "outputId": "5d046cca-9c89-4b20-ee2d-9c340c41b877"
      },
      "execution_count": 16,
      "outputs": [
        {
          "output_type": "display_data",
          "data": {
            "text/plain": [
              "<Figure size 640x480 with 1 Axes>"
            ],
            "image/png": "[encoded data removed]"
          },
          "metadata": {}
        }
      ]
    },
    {
      "cell_type": "markdown",
      "source": [
        "The scatter plot was selected to show how delivery times vary across different agent ratings and identify any correlation."
      ],
      "metadata": {
        "id": "iv6ro40sphqO"
      }
    },
    {
      "cell_type": "markdown",
      "source": [
        "There is no clear relationship between higher agent ratings and faster deliveries; delivery times appear spread across ratings."
      ],
      "metadata": {
        "id": "Po6ZPi4hphqO"
      }
    },
    {
      "cell_type": "markdown",
      "source": [
        "These insights suggest that improving agent rating alone may not significantly reduce delivery times, prompting focus on other operational factors for business impact. No strong evidence of negative growth from agent rating alone is revealed by this chart."
      ],
      "metadata": {
        "id": "xvSq8iUTphqO"
      }
    },
    {
      "cell_type": "markdown",
      "source": [
        "#### Delivery Time by Vehicle/Area"
      ],
      "metadata": {
        "id": "BZR9WyysphqO"
      }
    },
    {
      "cell_type": "code",
      "source": [
        "sns.boxplot(x=\"Vehicle\", y=\"Delivery_Time\", data=df)\n",
        "plt.title(\"Delivery Time by Vehicle Type\")\n",
        "plt.show()\n",
        "\n",
        "sns.boxplot(x=\"Area\", y=\"Delivery_Time\", data=df)\n",
        "plt.title(\"Delivery Time by Delivery Area\")\n",
        "plt.show()"
      ],
      "metadata": {
        "id": "TdPTWpAVphqO",
        "colab": {
          "base_uri": "https://localhost:8080/",
          "height": 927
        },
        "outputId": "033b8e83-d156-497c-e826-fbd9dc057314"
      },
      "execution_count": 17,
      "outputs": [
        {
          "output_type": "display_data",
          "data": {
            "text/plain": [
              "<Figure size 640x480 with 1 Axes>"
            ],
            "image/png": "[encoded data removed]"
          },
          "metadata": {}
        },
        {
          "output_type": "display_data",
          "data": {
            "text/plain": [
              "<Figure size 640x480 with 1 Axes>"
            ],
            "image/png": "[encoded data removed]"
          },
          "metadata": {}
        }
      ]
    },
    {
      "cell_type": "markdown",
      "source": [
        "The boxplot was selected for easy comparison of delivery times across different vehicle types and Area, clearly showing median, spread, and outliers.\n"
      ],
      "metadata": {
        "id": "Ob8u6rCTphqO"
      }
    },
    {
      "cell_type": "markdown",
      "source": [
        "Motorcycle deliveries show higher average and more variable delivery times compared to scooters, vans, and bicycles. Bicycles generally yield faster, more consistent deliveries.\n",
        "\n",
        "Semi-Urban areas have significantly longer delivery times with little variation, while Metropolitan areas have moderately longer times and Urban/Other areas have comparatively shorter delivery durations."
      ],
      "metadata": {
        "id": "mZtgC_hjphqO"
      }
    },
    {
      "cell_type": "markdown",
      "source": [
        "These findings can guide vehicle choice for optimal efficiency, helping the business reduce delays. Relying heavily on slower vehicles like motorcycles for average deliveries could negatively impact growth if not managed.\n",
        "\n",
        "These insights can drive focused operational improvements, especially for Semi-Urban and Metropolitan zones, enhancing efficiency and customer satisfaction. Longer delivery times in specific areas may negatively impact growth if not addressed, as delayed deliveries reduce customer loyalty and increase costs."
      ],
      "metadata": {
        "id": "ey_0qi68phqO"
      }
    },
    {
      "cell_type": "markdown",
      "source": [
        "#### Correlation Heatmap"
      ],
      "metadata": {
        "id": "YJ55k-q6phqO"
      }
    },
    {
      "cell_type": "code",
      "source": [
        "corr = df.select_dtypes(include=['number']).corr()\n",
        "sns.heatmap(corr, annot=True, fmt=\".2f\", cmap=\"Blues\")\n",
        "plt.title(\"Feature Correlation Heatmap\")\n",
        "plt.show()"
      ],
      "metadata": {
        "id": "vl6rV8l2jAmq",
        "colab": {
          "base_uri": "https://localhost:8080/",
          "height": 551
        },
        "outputId": "3602b06f-7b09-4af2-ee42-72d569658a65"
      },
      "execution_count": 18,
      "outputs": [
        {
          "output_type": "display_data",
          "data": {
            "text/plain": [
              "<Figure size 640x480 with 2 Axes>"
            ],
            "image/png": "[encoded data removed]"
          },
          "metadata": {}
        }
      ]
    },
    {
      "cell_type": "markdown",
      "source": [
        "The heatmap was chosen because it provides a quick overview of linear correlations between features and delivery time in one visual."
      ],
      "metadata": {
        "id": "TVxDimi2phqP"
      }
    },
    {
      "cell_type": "markdown",
      "source": [
        "Agent_Age has a positive correlation with delivery time, while Agent_Rating is negatively correlated. Other features show little or no correlation with delivery time."
      ],
      "metadata": {
        "id": "ngGi97qjphqQ"
      }
    },
    {
      "cell_type": "markdown",
      "source": [
        "These insights can guide feature selection and business strategy. Improving agent ratings may help reduce delivery times, while no negative growth is directly suggested by the weak correlations of other features."
      ],
      "metadata": {
        "id": "tBpY5ekJphqQ"
      }
    },
    {
      "cell_type": "markdown",
      "source": [
        "## ***5. Feature Engineering & Data Pre-processing***"
      ],
      "metadata": {
        "id": "yLjJCtPM0KBk"
      }
    },
    {
      "cell_type": "markdown",
      "source": [
        "### 1. Handling Missing Values"
      ],
      "metadata": {
        "id": "xiyOF9F70UgQ"
      }
    },
    {
      "cell_type": "code",
      "source": [
        "df['Agent_Rating'].fillna(df['Agent_Rating'].mean(), inplace=True)\n",
        "df['Weather'].fillna(df['Weather'].mode()[0], inplace=True)\n",
        "df['Traffic'].replace(np.nan,df['Traffic'].mode()[0],inplace=True)\n",
        "print(df.isnull().sum())"
      ],
      "metadata": {
        "id": "iRsAHk1K0fpS",
        "colab": {
          "base_uri": "https://localhost:8080/"
        },
        "outputId": "8b237a39-ee51-47e5-a526-ce73371919cc"
      },
      "execution_count": 37,
      "outputs": [
        {
          "output_type": "stream",
          "name": "stdout",
          "text": [
            "Agent_Age          0\n",
            "Agent_Rating       0\n",
            "Store_Latitude     0\n",
            "Store_Longitude    0\n",
            "Drop_Latitude      0\n",
            "Drop_Longitude     0\n",
            "Order_Date         0\n",
            "Order_Time         0\n",
            "Pickup_Time        0\n",
            "Weather            0\n",
            "Traffic            0\n",
            "Vehicle            0\n",
            "Area               0\n",
            "Delivery_Time      0\n",
            "dtype: int64\n"
          ]
        }
      ]
    },
    {
      "cell_type": "markdown",
      "source": [
        "The missing value imputation techniques used are:\n",
        "\n",
        "Mean Imputation for 'Agent_Rating': Missing values are replaced with the mean of existing ratings. This method is used because 'Agent_Rating' is a continuous numerical variable, and mean imputation preserves the overall average of the data, minimizing bias.\n",
        "\n",
        "Mode Imputation for 'Weather' and 'Traffic': Missing values are replaced with the most frequent category (mode). Mode imputation is suitable here because 'Weather' and 'Traffic' are categorical variables. Using the mode maintains the most common category and avoids introducing invalid values.\n",
        "\n",
        "These techniques were used to retain as much data as possible without dropping rows, while filling missing values with statistically representative substitutes to minimize distortion and improve model stability."
      ],
      "metadata": {
        "id": "1ixusLtI0pqI"
      }
    },
    {
      "cell_type": "markdown",
      "source": [
        "### 2. Handling Outliers"
      ],
      "metadata": {
        "id": "id1riN9m0vUs"
      }
    },
    {
      "cell_type": "code",
      "source": [
        "df['Agent_Rating'].replace(6,df['Agent_Rating'].mean(),inplace=True)"
      ],
      "metadata": {
        "id": "M6w2CzZf04JK"
      },
      "execution_count": 38,
      "outputs": []
    },
    {
      "cell_type": "markdown",
      "source": [
        "The outlier treatment technique used was value replacement (capping individual erroneous values). Specifically, the Agent_Rating value of 6, which is outside the valid range, was replaced with the mean Agent_Rating.\n",
        "\n",
        "This technique was chosen because:\n",
        "\n",
        "It corrects an obvious data entry or validation error without losing data.\n",
        "\n",
        "It preserves the original data distribution and size since only the incorrect value is changed.\n",
        "\n",
        "It avoids over-aggressive outlier removal or capping that may distort true variability, especially since other outliers were considered genuine reflections of the data.\n",
        "\n",
        "Overall, this approach keeps data integrity while resolving clear errors, aiding stable and realistic modeling."
      ],
      "metadata": {
        "id": "uGZz5OrT1HH-"
      }
    },
    {
      "cell_type": "markdown",
      "source": [
        "### 3. Convert date columns to datetime"
      ],
      "metadata": {
        "id": "jUXqz-I9vdda"
      }
    },
    {
      "cell_type": "code",
      "source": [
        "# Convert 'Order_Date' to datetime format if not already\n",
        "df['Order_Date'] = pd.to_datetime(df['Order_Date'], errors='coerce')\n",
        "\n",
        "# Extract day of week from 'Order_Date' (Monday=0, Sunday=6)\n",
        "df['Order_DayOfWeek'] = df['Order_Date'].dt.dayofweek\n",
        "\n",
        "# Convert 'Order_Time' and 'Pickup_Time' to datetime then extract hour\n",
        "df['Order_Time'] = pd.to_datetime(df['Order_Time'], format='%H:%M:%S', errors='coerce')\n",
        "df['Pickup_Time'] = pd.to_datetime(df['Pickup_Time'], format='%H:%M:%S', errors='coerce')\n",
        "\n",
        "df['Order_Hour'] = df['Order_Time'].dt.hour\n",
        "df['Pickup_Hour'] = df['Pickup_Time'].dt.hour"
      ],
      "metadata": {
        "id": "6bnWQM_XIgPC"
      },
      "execution_count": 39,
      "outputs": []
    },
    {
      "cell_type": "markdown",
      "source": [
        "This code performs datetime conversion and feature extraction on the order and pickup date/time data:\n",
        "\n",
        "Converts the 'Order_Date' column to datetime format to ensure consistent, correct date representations. Coercion handles invalid dates gracefully.\n",
        "\n",
        "Extracts the day of the week number (0 to 6) from 'Order_Date', creating 'Order_DayOfWeek'. This is useful as a categorical time feature for models or analysis.\n",
        "\n",
        "Converts 'Order_Time' and 'Pickup_Time' columns to datetime objects with only time precision, coercing errors to NaT for invalid times.\n",
        "\n",
        "Extracts the hour from 'Order_Time' and 'Pickup_Time', storing them in 'Order_Hour' and 'Pickup_Hour'. Hours are numeric features representing the time of day corresponding to order and pickup.\n",
        "\n",
        "These transformations enable the use of date and time information as actionable features in analysis and modeling, preserving temporal patterns that may impact delivery times or other outcomes."
      ],
      "metadata": {
        "id": "j2LrzcBl2cfD"
      }
    },
    {
      "cell_type": "code",
      "source": [
        "median_hour = df['Order_Hour'].median()\n",
        "df['Order_Hour'] = df['Order_Hour'].fillna(median_hour)"
      ],
      "metadata": {
        "id": "_vqSUNBMPzQr"
      },
      "execution_count": 40,
      "outputs": []
    },
    {
      "cell_type": "markdown",
      "source": [
        "This code fills missing 'Order_Hour' values with the median to avoid gaps and keep data consistent for analysis or modeling. The median is used because it is robust to outliers."
      ],
      "metadata": {
        "id": "MgJf4vDM3O2E"
      }
    },
    {
      "cell_type": "markdown",
      "source": [
        "### 4. Calculating actual ditance from Store location to Drop Location"
      ],
      "metadata": {
        "id": "8qu9KZpjTGxQ"
      }
    },
    {
      "cell_type": "code",
      "source": [
        "df['CalculatedDistance'] = df.apply(lambda row: geodesic((row['Store_Latitude'], row['Store_Longitude']), (row['Drop_Latitude'], row['Drop_Longitude'])).km, axis=1)"
      ],
      "metadata": {
        "id": "Foz7l64bffGT"
      },
      "execution_count": 41,
      "outputs": []
    },
    {
      "cell_type": "markdown",
      "source": [
        "This code calculates the geodesic (shortest) distance between the store location and the drop-off location for each delivery using their latitude and longitude coordinates. It stores the result as a new feature ‘CalculatedDistance’ in kilometers.\n",
        "\n",
        "This is helpful because it provides a meaningful measure of delivery distance, which is a key factor affecting delivery time and operational logistics. Instead of using raw coordinates, this metric captures the actual earth surface distance between points, improving modeling and analysis for delivery efficiency, route optimization, and performance prediction."
      ],
      "metadata": {
        "id": "WBUPzcf63SYf"
      }
    },
    {
      "cell_type": "markdown",
      "source": [
        "### 5. Categorical Encoding"
      ],
      "metadata": {
        "id": "89xtkJwZ18nB"
      }
    },
    {
      "cell_type": "code",
      "source": [
        "df = pd.get_dummies(df, columns=['Weather', 'Traffic', 'Vehicle','Area'],dtype=int)"
      ],
      "metadata": {
        "id": "21JmIYMG2hEo"
      },
      "execution_count": 42,
      "outputs": []
    },
    {
      "cell_type": "markdown",
      "source": [
        "This method converts each categorical variable into multiple binary columns—one per unique category—indicating presence (1) or absence (0) of that category.\n",
        "\n",
        "Why this technique is used:\n",
        "\n",
        "    Machine learning models require numerical input, so categorical variables must be converted.\n",
        "\n",
        "    One-hot encoding avoids imparting any unintended ordinal relationship among categories.\n",
        "\n",
        "    It is straightforward and effective for nominal categorical features like Weather, Traffic, Vehicle, and Area.\n",
        "\n",
        "    Using dtype=int ensures the encoded columns are numeric 0/1 values, ready for modeling.\n",
        "\n",
        "    This approach preserves all category information while making the dataset compatible with many ML algorithms."
      ],
      "metadata": {
        "id": "UDaue5h32n_G"
      }
    },
    {
      "cell_type": "markdown",
      "source": [
        "### 6. Feature Manipulation & Selection"
      ],
      "metadata": {
        "id": "-oLEiFgy-5Pf"
      }
    },
    {
      "cell_type": "markdown",
      "source": [
        "#### 1. Feature Manipulation"
      ],
      "metadata": {
        "id": "C74aWNz2AliB"
      }
    },
    {
      "cell_type": "code",
      "source": [
        "df.drop('Store_Latitude', axis=1, inplace=True)\n",
        "df.drop('Store_Longitude', axis=1, inplace=True)\n",
        "df.drop('Drop_Latitude', axis=1, inplace=True)\n",
        "df.drop('Drop_Longitude', axis=1, inplace=True)\n",
        "df.drop('Traffic_NaN ', axis=1, inplace=True)\n",
        "df.drop('Order_Time', axis=1, inplace=True)\n",
        "df.drop('Pickup_Time', axis=1, inplace=True)\n",
        "df.drop('Order_Date', axis=1, inplace=True)"
      ],
      "metadata": {
        "id": "rp9ZM5rDzcM_"
      },
      "execution_count": 43,
      "outputs": []
    },
    {
      "cell_type": "markdown",
      "source": [
        "These columns were dropped to remove redundant or less useful information. The coordinates were replaced by a calculated distance feature, and raw date/time columns were replaced by extracted time features. The 'Traffic_NaN' column was dropped after imputation. Dropping them simplifies the dataset and improves model performance by keeping only relevant features."
      ],
      "metadata": {
        "id": "wMvA5F4O4wi_"
      }
    },
    {
      "cell_type": "markdown",
      "source": [
        "#### 2. Transformed Dataset"
      ],
      "metadata": {
        "id": "jAomLjOF_Z-4"
      }
    },
    {
      "cell_type": "code",
      "source": [
        "df.head()"
      ],
      "metadata": {
        "id": "_ychZkvN_ak5",
        "colab": {
          "base_uri": "https://localhost:8080/",
          "height": 273
        },
        "outputId": "e70811aa-8f76-453b-e68a-0fa929dff056"
      },
      "execution_count": 44,
      "outputs": [
        {
          "output_type": "execute_result",
          "data": {
            "text/plain": [
              "   Agent_Age  Agent_Rating  Delivery_Time  Order_DayOfWeek  Order_Hour  \\\n",
              "0         37           4.9            120                5        11.0   \n",
              "1         34           4.5            165                4        19.0   \n",
              "2         23           4.4            130                5         8.0   \n",
              "3         38           4.7            105                1        18.0   \n",
              "4         32           4.6            150                5        13.0   \n",
              "\n",
              "   Pickup_Hour  CalculatedDistance  Weather_Cloudy  Weather_Fog  \\\n",
              "0           11            3.020737               0            0   \n",
              "1           19           20.143737               0            0   \n",
              "2            8            1.549693               0            0   \n",
              "3           18            7.774497               0            0   \n",
              "4           13            6.197898               1            0   \n",
              "\n",
              "   Weather_Sandstorms  ...  Traffic_Low   Traffic_Medium   Vehicle_bicycle   \\\n",
              "0                   0  ...             0                0                 0   \n",
              "1                   0  ...             0                0                 0   \n",
              "2                   1  ...             1                0                 0   \n",
              "3                   0  ...             0                1                 0   \n",
              "4                   0  ...             0                0                 0   \n",
              "\n",
              "   Vehicle_motorcycle   Vehicle_scooter   Vehicle_van  Area_Metropolitian   \\\n",
              "0                    1                 0            0                    0   \n",
              "1                    0                 1            0                    1   \n",
              "2                    1                 0            0                    0   \n",
              "3                    1                 0            0                    1   \n",
              "4                    0                 1            0                    1   \n",
              "\n",
              "   Area_Other  Area_Semi-Urban   Area_Urban   \n",
              "0           0                 0            1  \n",
              "1           0                 0            0  \n",
              "2           0                 0            1  \n",
              "3           0                 0            0  \n",
              "4           0                 0            0  \n",
              "\n",
              "[5 rows x 25 columns]"
            ],
            "text/html": [
              "\n",
              "  <div id=\"df-fcaf3f0c-dbcc-4bbd-a69a-ffb67982164c\" class=\"colab-df-container\">\n",
              "    <div>\n",
              "<style scoped>\n",
              "    .dataframe tbody tr th:only-of-type {\n",
              "        vertical-align: middle;\n",
              "    }\n",
              "\n",
              "    .dataframe tbody tr th {\n",
              "        vertical-align: top;\n",
              "    }\n",
              "\n",
              "    .dataframe thead th {\n",
              "        text-align: right;\n",
              "    }\n",
              "</style>\n",
              "<table border=\"1\" class=\"dataframe\">\n",
              "  <thead>\n",
              "    <tr style=\"text-align: right;\">\n",
              "      <th></th>\n",
              "      <th>Agent_Age</th>\n",
              "      <th>Agent_Rating</th>\n",
              "      <th>Delivery_Time</th>\n",
              "      <th>Order_DayOfWeek</th>\n",
              "      <th>Order_Hour</th>\n",
              "      <th>Pickup_Hour</th>\n",
              "      <th>CalculatedDistance</th>\n",
              "      <th>Weather_Cloudy</th>\n",
              "      <th>Weather_Fog</th>\n",
              "      <th>Weather_Sandstorms</th>\n",
              "      <th>...</th>\n",
              "      <th>Traffic_Low</th>\n",
              "      <th>Traffic_Medium</th>\n",
              "      <th>Vehicle_bicycle</th>\n",
              "      <th>Vehicle_motorcycle</th>\n",
              "      <th>Vehicle_scooter</th>\n",
              "      <th>Vehicle_van</th>\n",
              "      <th>Area_Metropolitian</th>\n",
              "      <th>Area_Other</th>\n",
              "      <th>Area_Semi-Urban</th>\n",
              "      <th>Area_Urban</th>\n",
              "    </tr>\n",
              "  </thead>\n",
              "  <tbody>\n",
              "    <tr>\n",
              "      <th>0</th>\n",
              "      <td>37</td>\n",
              "      <td>4.9</td>\n",
              "      <td>120</td>\n",
              "      <td>5</td>\n",
              "      <td>11.0</td>\n",
              "      <td>11</td>\n",
              "      <td>3.020737</td>\n",
              "      <td>0</td>\n",
              "      <td>0</td>\n",
              "      <td>0</td>\n",
              "      <td>...</td>\n",
              "      <td>0</td>\n",
              "      <td>0</td>\n",
              "      <td>0</td>\n",
              "      <td>1</td>\n",
              "      <td>0</td>\n",
              "      <td>0</td>\n",
              "      <td>0</td>\n",
              "      <td>0</td>\n",
              "      <td>0</td>\n",
              "      <td>1</td>\n",
              "    </tr>\n",
              "    <tr>\n",
              "      <th>1</th>\n",
              "      <td>34</td>\n",
              "      <td>4.5</td>\n",
              "      <td>165</td>\n",
              "      <td>4</td>\n",
              "      <td>19.0</td>\n",
              "      <td>19</td>\n",
              "      <td>20.143737</td>\n",
              "      <td>0</td>\n",
              "      <td>0</td>\n",
              "      <td>0</td>\n",
              "      <td>...</td>\n",
              "      <td>0</td>\n",
              "      <td>0</td>\n",
              "      <td>0</td>\n",
              "      <td>0</td>\n",
              "      <td>1</td>\n",
              "      <td>0</td>\n",
              "      <td>1</td>\n",
              "      <td>0</td>\n",
              "      <td>0</td>\n",
              "      <td>0</td>\n",
              "    </tr>\n",
              "    <tr>\n",
              "      <th>2</th>\n",
              "      <td>23</td>\n",
              "      <td>4.4</td>\n",
              "      <td>130</td>\n",
              "      <td>5</td>\n",
              "      <td>8.0</td>\n",
              "      <td>8</td>\n",
              "      <td>1.549693</td>\n",
              "      <td>0</td>\n",
              "      <td>0</td>\n",
              "      <td>1</td>\n",
              "      <td>...</td>\n",
              "      <td>1</td>\n",
              "      <td>0</td>\n",
              "      <td>0</td>\n",
              "      <td>1</td>\n",
              "      <td>0</td>\n",
              "      <td>0</td>\n",
              "      <td>0</td>\n",
              "      <td>0</td>\n",
              "      <td>0</td>\n",
              "      <td>1</td>\n",
              "    </tr>\n",
              "    <tr>\n",
              "      <th>3</th>\n",
              "      <td>38</td>\n",
              "      <td>4.7</td>\n",
              "      <td>105</td>\n",
              "      <td>1</td>\n",
              "      <td>18.0</td>\n",
              "      <td>18</td>\n",
              "      <td>7.774497</td>\n",
              "      <td>0</td>\n",
              "      <td>0</td>\n",
              "      <td>0</td>\n",
              "      <td>...</td>\n",
              "      <td>0</td>\n",
              "      <td>1</td>\n",
              "      <td>0</td>\n",
              "      <td>1</td>\n",
              "      <td>0</td>\n",
              "      <td>0</td>\n",
              "      <td>1</td>\n",
              "      <td>0</td>\n",
              "      <td>0</td>\n",
              "      <td>0</td>\n",
              "    </tr>\n",
              "    <tr>\n",
              "      <th>4</th>\n",
              "      <td>32</td>\n",
              "      <td>4.6</td>\n",
              "      <td>150</td>\n",
              "      <td>5</td>\n",
              "      <td>13.0</td>\n",
              "      <td>13</td>\n",
              "      <td>6.197898</td>\n",
              "      <td>1</td>\n",
              "      <td>0</td>\n",
              "      <td>0</td>\n",
              "      <td>...</td>\n",
              "      <td>0</td>\n",
              "      <td>0</td>\n",
              "      <td>0</td>\n",
              "      <td>0</td>\n",
              "      <td>1</td>\n",
              "      <td>0</td>\n",
              "      <td>1</td>\n",
              "      <td>0</td>\n",
              "      <td>0</td>\n",
              "      <td>0</td>\n",
              "    </tr>\n",
              "  </tbody>\n",
              "</table>\n",
              "<p>5 rows × 25 columns</p>\n",
              "</div>\n",
              "    <div class=\"colab-df-buttons\">\n",
              "\n",
              "  <div class=\"colab-df-container\">\n",
              "    <button class=\"colab-df-convert\" onclick=\"convertToInteractive('df-fcaf3f0c-dbcc-4bbd-a69a-ffb67982164c')\"\n",
              "            title=\"Convert this dataframe to an interactive table.\"\n",
              "            style=\"display:none;\">\n",
              "\n",
              "  <svg xmlns=\"http://www.w3.org/2000/svg\" height=\"24px\" viewBox=\"0 -960 960 960\">\n",
              "    <path d=\"M120-120v-720h720v720H120Zm60-500h600v-160H180v160Zm220 220h160v-160H400v160Zm0 220h160v-160H400v160ZM180-400h160v-160H180v160Zm440 0h160v-160H620v160ZM180-180h160v-160H180v160Zm440 0h160v-160H620v160Z\"/>\n",
              "  </svg>\n",
              "    </button>\n",
              "\n",
              "  <style>\n",
              "    .colab-df-container {\n",
              "      display:flex;\n",
              "      gap: 12px;\n",
              "    }\n",
              "\n",
              "    .colab-df-convert {\n",
              "      background-color: #E8F0FE;\n",
              "      border: none;\n",
              "      border-radius: 50%;\n",
              "      cursor: pointer;\n",
              "      display: none;\n",
              "      fill: #1967D2;\n",
              "      height: 32px;\n",
              "      padding: 0 0 0 0;\n",
              "      width: 32px;\n",
              "    }\n",
              "\n",
              "    .colab-df-convert:hover {\n",
              "      background-color: #E2EBFA;\n",
              "      box-shadow: 0px 1px 2px rgba(60, 64, 67, 0.3), 0px 1px 3px 1px rgba(60, 64, 67, 0.15);\n",
              "      fill: #174EA6;\n",
              "    }\n",
              "\n",
              "    .colab-df-buttons div {\n",
              "      margin-bottom: 4px;\n",
              "    }\n",
              "\n",
              "    [theme=dark] .colab-df-convert {\n",
              "      background-color: #3B4455;\n",
              "      fill: #D2E3FC;\n",
              "    }\n",
              "\n",
              "    [theme=dark] .colab-df-convert:hover {\n",
              "      background-color: #434B5C;\n",
              "      box-shadow: 0px 1px 3px 1px rgba(0, 0, 0, 0.15);\n",
              "      filter: drop-shadow(0px 1px 2px rgba(0, 0, 0, 0.3));\n",
              "      fill: #FFFFFF;\n",
              "    }\n",
              "  </style>\n",
              "\n",
              "    <script>\n",
              "      const buttonEl =\n",
              "        document.querySelector('#df-fcaf3f0c-dbcc-4bbd-a69a-ffb67982164c button.colab-df-convert');\n",
              "      buttonEl.style.display =\n",
              "        google.colab.kernel.accessAllowed ? 'block' : 'none';\n",
              "\n",
              "      async function convertToInteractive(key) {\n",
              "        const element = document.querySelector('#df-fcaf3f0c-dbcc-4bbd-a69a-ffb67982164c');\n",
              "        const dataTable =\n",
              "          await google.colab.kernel.invokeFunction('convertToInteractive',\n",
              "                                                    [key], {});\n",
              "        if (!dataTable) return;\n",
              "\n",
              "        const docLinkHtml = 'Like what you see? Visit the ' +\n",
              "          '<a target=\"_blank\" href=https://colab.research.google.com/notebooks/data_table.ipynb>data table notebook</a>'\n",
              "          + ' to learn more about interactive tables.';\n",
              "        element.innerHTML = '';\n",
              "        dataTable['output_type'] = 'display_data';\n",
              "        await google.colab.output.renderOutput(dataTable, element);\n",
              "        const docLink = document.createElement('div');\n",
              "        docLink.innerHTML = docLinkHtml;\n",
              "        element.appendChild(docLink);\n",
              "      }\n",
              "    </script>\n",
              "  </div>\n",
              "\n",
              "\n",
              "    <div id=\"df-78de8164-3f7c-4880-a63b-286b203e40a5\">\n",
              "      <button class=\"colab-df-quickchart\" onclick=\"quickchart('df-78de8164-3f7c-4880-a63b-286b203e40a5')\"\n",
              "                title=\"Suggest charts\"\n",
              "                style=\"display:none;\">\n",
              "\n",
              "<svg xmlns=\"http://www.w3.org/2000/svg\" height=\"24px\"viewBox=\"0 0 24 24\"\n",
              "     width=\"24px\">\n",
              "    <g>\n",
              "        <path d=\"M19 3H5c-1.1 0-2 .9-2 2v14c0 1.1.9 2 2 2h14c1.1 0 2-.9 2-2V5c0-1.1-.9-2-2-2zM9 17H7v-7h2v7zm4 0h-2V7h2v10zm4 0h-2v-4h2v4z\"/>\n",
              "    </g>\n",
              "</svg>\n",
              "      </button>\n",
              "\n",
              "<style>\n",
              "  .colab-df-quickchart {\n",
              "      --bg-color: #E8F0FE;\n",
              "      --fill-color: #1967D2;\n",
              "      --hover-bg-color: #E2EBFA;\n",
              "      --hover-fill-color: #174EA6;\n",
              "      --disabled-fill-color: #AAA;\n",
              "      --disabled-bg-color: #DDD;\n",
              "  }\n",
              "\n",
              "  [theme=dark] .colab-df-quickchart {\n",
              "      --bg-color: #3B4455;\n",
              "      --fill-color: #D2E3FC;\n",
              "      --hover-bg-color: #434B5C;\n",
              "      --hover-fill-color: #FFFFFF;\n",
              "      --disabled-bg-color: #3B4455;\n",
              "      --disabled-fill-color: #666;\n",
              "  }\n",
              "\n",
              "  .colab-df-quickchart {\n",
              "    background-color: var(--bg-color);\n",
              "    border: none;\n",
              "    border-radius: 50%;\n",
              "    cursor: pointer;\n",
              "    display: none;\n",
              "    fill: var(--fill-color);\n",
              "    height: 32px;\n",
              "    padding: 0;\n",
              "    width: 32px;\n",
              "  }\n",
              "\n",
              "  .colab-df-quickchart:hover {\n",
              "    background-color: var(--hover-bg-color);\n",
              "    box-shadow: 0 1px 2px rgba(60, 64, 67, 0.3), 0 1px 3px 1px rgba(60, 64, 67, 0.15);\n",
              "    fill: var(--button-hover-fill-color);\n",
              "  }\n",
              "\n",
              "  .colab-df-quickchart-complete:disabled,\n",
              "  .colab-df-quickchart-complete:disabled:hover {\n",
              "    background-color: var(--disabled-bg-color);\n",
              "    fill: var(--disabled-fill-color);\n",
              "    box-shadow: none;\n",
              "  }\n",
              "\n",
              "  .colab-df-spinner {\n",
              "    border: 2px solid var(--fill-color);\n",
              "    border-color: transparent;\n",
              "    border-bottom-color: var(--fill-color);\n",
              "    animation:\n",
              "      spin 1s steps(1) infinite;\n",
              "  }\n",
              "\n",
              "  @keyframes spin {\n",
              "    0% {\n",
              "      border-color: transparent;\n",
              "      border-bottom-color: var(--fill-color);\n",
              "      border-left-color: var(--fill-color);\n",
              "    }\n",
              "    20% {\n",
              "      border-color: transparent;\n",
              "      border-left-color: var(--fill-color);\n",
              "      border-top-color: var(--fill-color);\n",
              "    }\n",
              "    30% {\n",
              "      border-color: transparent;\n",
              "      border-left-color: var(--fill-color);\n",
              "      border-top-color: var(--fill-color);\n",
              "      border-right-color: var(--fill-color);\n",
              "    }\n",
              "    40% {\n",
              "      border-color: transparent;\n",
              "      border-right-color: var(--fill-color);\n",
              "      border-top-color: var(--fill-color);\n",
              "    }\n",
              "    60% {\n",
              "      border-color: transparent;\n",
              "      border-right-color: var(--fill-color);\n",
              "    }\n",
              "    80% {\n",
              "      border-color: transparent;\n",
              "      border-right-color: var(--fill-color);\n",
              "      border-bottom-color: var(--fill-color);\n",
              "    }\n",
              "    90% {\n",
              "      border-color: transparent;\n",
              "      border-bottom-color: var(--fill-color);\n",
              "    }\n",
              "  }\n",
              "</style>\n",
              "\n",
              "      <script>\n",
              "        async function quickchart(key) {\n",
              "          const quickchartButtonEl =\n",
              "            document.querySelector('#' + key + ' button');\n",
              "          quickchartButtonEl.disabled = true;  // To prevent multiple clicks.\n",
              "          quickchartButtonEl.classList.add('colab-df-spinner');\n",
              "          try {\n",
              "            const charts = await google.colab.kernel.invokeFunction(\n",
              "                'suggestCharts', [key], {});\n",
              "          } catch (error) {\n",
              "            console.error('Error during call to suggestCharts:', error);\n",
              "          }\n",
              "          quickchartButtonEl.classList.remove('colab-df-spinner');\n",
              "          quickchartButtonEl.classList.add('colab-df-quickchart-complete');\n",
              "        }\n",
              "        (() => {\n",
              "          let quickchartButtonEl =\n",
              "            document.querySelector('#df-78de8164-3f7c-4880-a63b-286b203e40a5 button');\n",
              "          quickchartButtonEl.style.display =\n",
              "            google.colab.kernel.accessAllowed ? 'block' : 'none';\n",
              "        })();\n",
              "      </script>\n",
              "    </div>\n",
              "\n",
              "    </div>\n",
              "  </div>\n"
            ],
            "application/vnd.google.colaboratory.intrinsic+json": {
              "type": "dataframe",
              "variable_name": "df"
            }
          },
          "metadata": {},
          "execution_count": 44
        }
      ]
    },
    {
      "cell_type": "markdown",
      "source": [
        "#### 3. Feature Selection"
      ],
      "metadata": {
        "id": "2DejudWSA-a0"
      }
    },
    {
      "cell_type": "code",
      "source": [
        "X = df.drop('Delivery_Time', axis=1)\n",
        "y = df['Delivery_Time']"
      ],
      "metadata": {
        "id": "nIJF7CvVqIPz"
      },
      "execution_count": 45,
      "outputs": []
    },
    {
      "cell_type": "markdown",
      "source": [
        "Feature Selection Method:\n",
        "\n",
        "The primary method used here is manual feature selection, where 'Delivery_Time' (target) is separated and all other columns are used as input features.\n",
        "\n",
        "This indicates prior processing identified relevant features for prediction and dropped or transformed others."
      ],
      "metadata": {
        "id": "rb2Lh6Z8BgGs"
      }
    },
    {
      "cell_type": "markdown",
      "source": [
        "Important Features Identified:\n",
        "\n",
        "Features like calculated delivery distance, order/pickup hour, categorical dummies for weather, traffic, vehicle, and area were retained since they influence delivery time.\n",
        "\n",
        "These features are important because they capture key factors such as time of day, route length, conditions, and transport mode that affect delivery speed and efficiency."
      ],
      "metadata": {
        "id": "fGgaEstsBnaf"
      }
    },
    {
      "cell_type": "markdown",
      "source": [
        "### 7. Data Scaling"
      ],
      "metadata": {
        "id": "rMDnDkt2B6du"
      }
    },
    {
      "cell_type": "markdown",
      "source": [
        "Scaling was not performed because:\n",
        "\n",
        "Models like Gradient Boosting and Random Forest are tree-based and do not require feature scaling to perform well since they split data based on thresholds, which are independent of feature magnitude or units.\n",
        "\n",
        "Linear Regression benefits from scaling, but if non-tree models are less emphasized, scaling is skipped for simplicity.\n",
        "\n",
        "Your features such as age and rating may be on roughly similar scales or preprocessing focused on encoding categories rather than numeric scaling.\n",
        "\n",
        "For geospatial coordinates, scaling does not necessarily improve performance as the raw coordinates or derived distances hold physical meaning."
      ],
      "metadata": {
        "id": "-poDqD4eE0cT"
      }
    },
    {
      "cell_type": "markdown",
      "source": [
        "### 8. Data Splitting"
      ],
      "metadata": {
        "id": "BhH2vgX9EjGr"
      }
    },
    {
      "cell_type": "code",
      "source": [
        "X_train, X_test, y_train, y_test = train_test_split(X, y, test_size=0.2, random_state=42)"
      ],
      "metadata": {
        "id": "0CTyd2UwEyNM"
      },
      "execution_count": 46,
      "outputs": []
    },
    {
      "cell_type": "code",
      "source": [
        "print(f\"Training samples: {X_train.shape[0]}\")\n",
        "print(f\"Testing samples: {X_test.shape[0]}\")"
      ],
      "metadata": {
        "id": "R_QiVRfKrBJa",
        "colab": {
          "base_uri": "https://localhost:8080/"
        },
        "outputId": "d01750dd-a293-447b-dc4c-b2cc7793c310"
      },
      "execution_count": 47,
      "outputs": [
        {
          "output_type": "stream",
          "name": "stdout",
          "text": [
            "Training samples: 34991\n",
            "Testing samples: 8748\n"
          ]
        }
      ]
    },
    {
      "cell_type": "markdown",
      "source": [
        "The data splitting ratio used is 80% training and 20% testing. This is a common practice because it provides enough data for the model to learn effectively while reserving a representative portion to evaluate its performance on unseen data. The random_state=42 ensures reproducibility by consistently producing the same split across runs."
      ],
      "metadata": {
        "id": "Y2lJ8cobFDb_"
      }
    },
    {
      "cell_type": "markdown",
      "source": [
        "## ***6. ML Model Implementation***"
      ],
      "metadata": {
        "id": "VfCC591jGiD4"
      }
    },
    {
      "cell_type": "markdown",
      "source": [
        "###  Model Training, Evaluation & MLflow Tracking Separately"
      ],
      "metadata": {
        "id": "OB4l2ZhMeS1U"
      }
    },
    {
      "cell_type": "code",
      "source": [
        "models = {\n",
        "    'Linear Regression': LinearRegression(),\n",
        "    'Random Forest': RandomForestRegressor(random_state=42),\n",
        "    'Gradient Boosting': GradientBoostingRegressor(random_state=42)\n",
        "}\n",
        "\n",
        "best_model_name = None\n",
        "best_rmse = float('inf')\n",
        "best_model = None\n",
        "\n",
        "for name, model in models.items():\n",
        "    with mlflow.start_run(run_name=name):\n",
        "        print(f\"Training and evaluating {name} model...\")\n",
        "\n",
        "        # Train\n",
        "        model.fit(X_train, y_train)\n",
        "\n",
        "        # Predict\n",
        "        predictions = model.predict(X_test)\n",
        "\n",
        "        # Evaluate\n",
        "        rmse = mean_squared_error(y_test, predictions)\n",
        "        mae = mean_absolute_error(y_test, predictions)\n",
        "        r2 = r2_score(y_test, predictions)\n",
        "\n",
        "        # Log to MLflow\n",
        "        mlflow.sklearn.log_model(model, f\"{name.lower().replace(' ', '_')}_model\")\n",
        "        mlflow.log_metric(\"rmse\", rmse)\n",
        "        mlflow.log_metric(\"mae\", mae)\n",
        "        mlflow.log_metric(\"r2\", r2)\n",
        "\n",
        "        print(f\"{name} - RMSE: {rmse:.4f}, MAE: {mae:.4f}, R2: {r2:.4f}\")\n",
        "\n",
        "        # Track best model based on RMSE\n",
        "        if rmse < best_rmse:\n",
        "            best_rmse = rmse\n",
        "            best_model_name = name\n",
        "            best_model = model\n",
        "\n",
        "print(f\"\\nBest Model: {best_model_name} with RMSE: {best_rmse:.4f}\")"
      ],
      "metadata": {
        "id": "7ebyywQieS1U",
        "colab": {
          "base_uri": "https://localhost:8080/"
        },
        "outputId": "c9f0ee7b-0b62-430e-b83f-fdcabab81230"
      },
      "execution_count": 48,
      "outputs": [
        {
          "output_type": "stream",
          "name": "stderr",
          "text": [
            "2025/10/02 09:14:48 WARNING mlflow.models.model: `artifact_path` is deprecated. Please use `name` instead.\n"
          ]
        },
        {
          "output_type": "stream",
          "name": "stdout",
          "text": [
            "Training and evaluating Linear Regression model...\n"
          ]
        },
        {
          "output_type": "stream",
          "name": "stderr",
          "text": [
            "\u001b[31m2025/10/02 09:14:53 WARNING mlflow.models.model: Model logged without a signature and input example. Please set `input_example` parameter when logging the model to auto infer the model signature.\u001b[0m\n"
          ]
        },
        {
          "output_type": "stream",
          "name": "stdout",
          "text": [
            "Linear Regression - RMSE: 1754.9214, MAE: 31.2645, R2: 0.3412\n",
            "Training and evaluating Random Forest model...\n"
          ]
        },
        {
          "output_type": "stream",
          "name": "stderr",
          "text": [
            "2025/10/02 09:15:17 WARNING mlflow.models.model: `artifact_path` is deprecated. Please use `name` instead.\n",
            "\u001b[31m2025/10/02 09:15:29 WARNING mlflow.models.model: Model logged without a signature and input example. Please set `input_example` parameter when logging the model to auto infer the model signature.\u001b[0m\n"
          ]
        },
        {
          "output_type": "stream",
          "name": "stdout",
          "text": [
            "Random Forest - RMSE: 1341.7598, MAE: 25.3719, R2: 0.4963\n",
            "Training and evaluating Gradient Boosting model...\n"
          ]
        },
        {
          "output_type": "stream",
          "name": "stderr",
          "text": [
            "2025/10/02 09:15:38 WARNING mlflow.models.model: `artifact_path` is deprecated. Please use `name` instead.\n",
            "\u001b[31m2025/10/02 09:15:43 WARNING mlflow.models.model: Model logged without a signature and input example. Please set `input_example` parameter when logging the model to auto infer the model signature.\u001b[0m\n"
          ]
        },
        {
          "output_type": "stream",
          "name": "stdout",
          "text": [
            "Gradient Boosting - RMSE: 1282.8728, MAE: 25.0917, R2: 0.5184\n",
            "\n",
            "Best Model: Gradient Boosting with RMSE: 1282.8728\n"
          ]
        }
      ]
    },
    {
      "cell_type": "markdown",
      "source": [
        "For the positive business impact, the evaluation metrics considered are RMSE (Root Mean Squared Error), MAE (Mean Absolute Error), and R2 (R-squared). Here's why:\n",
        "\n",
        "- **RMSE (Root Mean Squared Error):** Measures average magnitude of errors with emphasis on larger errors. Lower values indicate more precise delivery time predictions, helping reduce delays and improve customer satisfaction.\n",
        "- **MAE (Mean Absolute Error):** Average absolute deviations, easier to interpret in minutes. Important for understanding typical prediction errors.\n",
        "- **R2 (Coefficient of Determination):** Indicates the proportion of variance in delivery time explained by the model. Higher values indicate better fit and reliability for business decisions."
      ],
      "metadata": {
        "id": "jHVz9hHDKFms"
      }
    },
    {
      "cell_type": "markdown",
      "source": [
        "The final prediction model chosen is the Gradient Boosting model because it achieved the best performance metrics among the three:\n",
        "\n",
        "\n",
        "| Model             | RMSE     | MAE      | R2     |\n",
        "|-------------------|----------|----------|--------|\n",
        "| Linear Regression | 1754.92  | 31.26    | 0.3412 |\n",
        "| Random Forest     | 1341.76  | 25.37    | 0.4963 |\n",
        "| Gradient Boosting | 1282.87  | 25.09    | 0.5184 |\n",
        "\n",
        "The Gradient Boosting model has the lowest RMSE and MAE, indicating the most accurate and consistent predictions, and the highest R2, showing the best fit to the data, reflecting its ability to accurately predict delivery times in varied conditions compared to Linear Regression and Random Forest models."
      ],
      "metadata": {
        "id": "6ksF5Q1LKTVm"
      }
    },
    {
      "cell_type": "markdown",
      "source": [
        "Gradient Boosting is an ensemble learning technique that builds a series of decision trees sequentially, where each tree tries to correct errors from the previous ones to reduce overall prediction error. This allows it to capture complex, non-linear relationships in the data.\n",
        "\n",
        "For interpretability and trust, **SHAP (SHapley Additive exPlanations)** can be applied to compute feature importance, revealing how features like delivery distance, traffic conditions, weather, vehicle type, and time of day influence predicted delivery times. This insight aids stakeholders in understanding model behavior and making informed operational improvements."
      ],
      "metadata": {
        "id": "YnvVTiIxBL-C"
      }
    },
    {
      "cell_type": "markdown",
      "source": [
        "## ***7. Save the Best Model for Deployment***"
      ],
      "metadata": {
        "id": "ZDJvkK7PWxMD"
      }
    },
    {
      "cell_type": "code",
      "source": [
        "model_filename = f\"{best_model_name.lower().replace(' ', '_')}_delivery_model.pkl\"\n",
        "joblib.dump(best_model, model_filename)\n",
        "print(f\"Best model saved as {model_filename}\")"
      ],
      "metadata": {
        "id": "SRQD3ZzDAo_8",
        "colab": {
          "base_uri": "https://localhost:8080/"
        },
        "outputId": "46963f86-feb2-4b64-e499-cdaf1a237e68"
      },
      "execution_count": 49,
      "outputs": [
        {
          "output_type": "stream",
          "name": "stdout",
          "text": [
            "Best model saved as gradient_boosting_delivery_model.pkl\n"
          ]
        }
      ]
    },
    {
      "cell_type": "markdown",
      "source": [
        "The best-performing machine learning model was serialized and saved using Joblib for efficient reuse and deployment. The filename was dynamically generated based on the model name, enabling better model management and version control. This approach ensures the model can be loaded later without retraining, saving computational resources and enabling smooth production integration."
      ],
      "metadata": {
        "id": "GS4-UAwp8B8m"
      }
    },
    {
      "cell_type": "markdown",
      "source": [
        "# **Conclusion**"
      ],
      "metadata": {
        "id": "gCX9965dhzqZ"
      }
    },
    {
      "cell_type": "markdown",
      "source": [
        "This delivery time prediction project successfully developed and evaluated multiple machine learning models using key performance metrics aligned with business goals. The Gradient Boosting model was selected for its accuracy and ability to capture complex underlying patterns, reflected by the lowest RMSE, MAE, and highest R2 scores.\n",
        "\n",
        "Feature engineering—including geodesic distance calculation and encoding categorical variables—played a significant role in improving model performance. The project demonstrates the importance of iterative modeling, rigorous evaluation, and data-driven feature design for building effective predictive solutions that can enhance logistics operations and customer satisfaction.\n",
        "\n",
        "Future work could include applying model interpretability techniques to further understand feature impacts and support transparent decision-making."
      ],
      "metadata": {
        "id": "Fjb1IsQkh3yE"
      }
    }
  ]
}